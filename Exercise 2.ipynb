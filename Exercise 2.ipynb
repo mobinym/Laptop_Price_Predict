{
 "cells": [
  {
   "cell_type": "markdown",
   "metadata": {},
   "source": [
    "<div dir=\"rtl\">\n",
    "    <font size=\"6\">\n",
    "        <h1>تمرین پیش‌بینی قیمت لپ‌تاپ با یادگیری ماشین</h1>\n",
    "    </font>\n",
    "</div>\n",
    "<br>\n",
    "\n",
    "<div dir=\"rtl\">\n",
    "    <font size=\"4\">\n",
    "        <h2><strong>مقدمه</strong></h2>\n",
    "        در این تمرین، شما با استفاده از مجموعه داده‌ای شامل مشخصات سخت‌افزاری و قیمت لپ‌تاپ‌ها، یک مدل یادگیری ماشین برای پیش‌بینی قیمت لپ‌تاپ توسعه خواهید داد. این تمرین به شما کمک می‌کند تا مهارت‌های خود را در تحلیل داده، پیش‌پردازش، مدل‌سازی و ارزیابی مدل‌های رگرسیونی تقویت کنید.\n",
    "    </font>\n",
    "</div>\n",
    "<br>\n",
    "<br>\n",
    "<div dir=\"rtl\">\n",
    "    <font size=\"4\">\n",
    "        <h2><strong>وظیفه شما در این تمرین</strong></h2>\n",
    "        شما باید یک مدل <strong>رگرسیون</strong> طراحی کنید که بتواند بر اساس ویژگی‌های سخت‌افزاری و سایر اطلاعات موجود در دیتاست، قیمت لپ‌تاپ‌ها را پیش‌بینی کند. مراحل کلی تمرین به شرح زیر است:\n",
    "            <li>✅ <strong>کاوش و تحلیل داده‌ها:</strong> بررسی ویژگی‌های مختلف، مقادیر پرت، توزیع داده‌ها، و همبستگی بین متغیرها.</li>\n",
    "            <li>✅ <strong>پیش‌پردازش داده‌ها:</strong> تبدیل متغیرهای متنی به عددی، بررسی داده‌های پرت، مدیریت داده‌های گمشده (در صورت وجود)، و نرمال‌سازی داده‌ها.</li>\n",
    "            <li>✅ پیاده سازی مدل های Random Forest و XGBoost</li>\n",
    "            <li>✅ <strong>ارزیابی مدل:</strong> استفاده از معیارهایی مانند <strong>RMSE، MAE، R2</strong> برای اندازه‌گیری دقت پیش‌بینی مدل.\n",
    "            </li>\n",
    "            <li>✅ ذخیره سازی مدل\n",
    "            </li>\n",
    "    </font>\n",
    "</div>\n",
    "<br>"
   ]
  },
  {
   "cell_type": "markdown",
   "metadata": {
    "id": "lhWL25VswBvP"
   },
   "source": [
    "<div dir=\"rtl\">\n",
    "<font size=\"4\">\n",
    "    <h2><strong>متغیر هدف (Target Variable)</strong></h2>\n",
    "    متغیر هدف در این تمرین <strong>\"Price ($)\"</strong> است که نشان می‌دهد مقدار قیمت مورد نظر برای پیش‌بینی چقدر است.\n",
    "    <li><strong>قیمت بالا:</strong> مقدار قیمت در سطح بالایی قرار دارد.</li>\n",
    "    <li><strong>قیمت پایین:</strong> مقدار قیمت در سطح پایینی قرار دارد.</li>\n",
    "</font>\n",
    "<h2><strong>نحوه ارسال تمرین</strong></h2>\n",
    "<font size=\"4\">\n",
    "    <li>📌 فایل تمرین خود را در یک <strong>مخزن (Repository) در اکانت GitHub</strong> خود آپلود کنید.</li>\n",
    "    <li>📌 لینک مخزن را کپی کرده و در <strong>پنل لنمیس</strong> ارسال کنید.</li>\n",
    "    🔴 <strong>اطمینان حاصل کنید که مخزن شما به‌صورت عمومی قابل‌دسترسی باشد تا تمرین شما بررسی شود.</strong>\n",
    "</font>\n",
    "\n",
    "</div>\n",
    "<br>\n",
    "<br>\n",
    "<br>"
   ]
  },
  {
   "cell_type": "markdown",
   "metadata": {
    "id": "v05s84sPMY2P"
   },
   "source": [
    "<div dir=\"rtl\">\n",
    "    <h2>راهنمای تمرین:<h2>\n",
    "    <p>\n",
    "        <font size=4>\n",
    "        این تمرین به گونه‌ای طراحی شده که شما باید کدهای خود را در قالب خاصی که از قبل مشخص شده، بنویسید. به این معنی که ممکن است بخشی از کد برای شما آماده باشد و شما باید فقط ادامه کد را بنویسید بدون اینکه آن قسمت از کد را تغییر دهید. این نوع تمرین برای کمک به شما طراحی شده تا در مراحل بعدی با چالش‌های پیچیده‌تری روبرو شوید که نیاز به مهارت‌های بیشتری دارند.\n",
    "        <br>\n",
    "        در این تمرین، در هر مرحله شما باید برداشت‌ها و تحلیل‌های خود را بنویسید. مثلاً اگر در کد شما نمودار یا جدولی از داده‌ها یا نتایج مدل‌ها به نمایش در می‌آید، شما باید توضیح دهید که آن‌ها چه معنی و کاربردی دارند. این تحلیل‌ها می‌تواند شامل بررسی تغییرات در داده‌ها، ارزیابی مدل‌ها، یا نتایج بهینه‌سازی‌ها باشد.\n",
    "        <br>\n",
    "        برای هر بخش، حداقل پنج نکته یا برداشت از نتایج یا داده‌ها باید بنویسید.\n",
    "        <br>\n",
    "            <li>\n",
    "            در قسمت ارزیابی , باید یافته ها و نکاتی که از تحلیل داده متوجه شده و دریافت کرده اید در قالب یک خلاصه گزارش , بنویسید.\n",
    "            </li>\n",
    "            <li>\n",
    "            برای هر نمودار یا جدول، تحلیل کنید که چه روندی را نشان می‌دهند یا آیا نکته خاصی برای بهبود مدل یا داده‌ها از آن‌ها قابل استخراج است.\n",
    "            </li>\n",
    "            <br>\n",
    "        مهم است که توجه داشته باشید شما باید فقط کدهای خود را اضافه کنید و قسمت‌هایی که از پیش نوشته شده‌اند، نباید تغییر کنند. هدف این است که شما بتوانید با استفاده از قالب و راهنمایی‌های داده شده، تمرین را به درستی تکمیل کنید.\n",
    "        </font>\n",
    "    </p>\n",
    "</div>\n",
    "<br>\n",
    "<br>\n",
    "<br>"
   ]
  },
  {
   "cell_type": "markdown",
   "metadata": {
    "id": "W8BnAT_3Nmyh"
   },
   "source": [
    "<div dir=\"rtl\">\n",
    "    <h2>توضیح متغیرهای دیتاست لپ‌تاپ</h2>\n",
    "    <table border=\"1\" cellpadding=\"8\" cellspacing=\"0\">\n",
    "        <tr>\n",
    "            <th>ستون</th>\n",
    "            <th>توضیح کوتاه</th>\n",
    "            <th>نوع داده</th>\n",
    "        </tr>\n",
    "        <tr>\n",
    "            <td><b>Brand</b></td>\n",
    "            <td>برند لپ‌تاپ (Dell, HP, Apple, …)</td>\n",
    "            <td>object</td>\n",
    "        </tr>\n",
    "        <tr>\n",
    "            <td><b>Processor</b></td>\n",
    "            <td>نوع پردازنده (Intel, AMD, …)</td>\n",
    "            <td>object</td>\n",
    "        </tr>\n",
    "        <tr>\n",
    "            <td><b>RAM (GB)</b></td>\n",
    "            <td>مقدار رم (به گیگابایت)</td>\n",
    "            <td>int64</td>\n",
    "        </tr>\n",
    "        <tr>\n",
    "            <td><b>Storage</b></td>\n",
    "            <td>نوع و ظرفیت حافظه (SSD, HDD, …)</td>\n",
    "            <td>object</td>\n",
    "        </tr>\n",
    "        <tr>\n",
    "            <td><b>GPU</b></td>\n",
    "            <td>مدل کارت گرافیک</td>\n",
    "            <td>object</td>\n",
    "        </tr>\n",
    "        <tr>\n",
    "            <td><b>Screen Size (inch)</b></td>\n",
    "            <td>اندازه صفحه‌نمایش (اینچ)</td>\n",
    "            <td>float64</td>\n",
    "        </tr>\n",
    "        <tr>\n",
    "            <td><b>Resolution</b></td>\n",
    "            <td>رزولوشن صفحه‌نمایش (Full HD, 4K, …)</td>\n",
    "            <td>object</td>\n",
    "        </tr>\n",
    "        <tr>\n",
    "            <td><b>Battery Life (hours)</b></td>\n",
    "            <td>عمر باتری (ساعت)</td>\n",
    "            <td>float64</td>\n",
    "        </tr>\n",
    "        <tr>\n",
    "            <td><b>Weight (kg)</b></td>\n",
    "            <td>وزن دستگاه (کیلوگرم)</td>\n",
    "            <td>float64</td>\n",
    "        </tr>\n",
    "        <tr>\n",
    "            <td><b>Operating System</b></td>\n",
    "            <td>سیستم‌عامل (Windows, macOS, Linux, …)</td>\n",
    "            <td>object</td>\n",
    "        </tr>\n",
    "        <tr>\n",
    "            <td><b>Price ($)</b></td>\n",
    "            <td>قیمت لپ‌تاپ (دلار)</td>\n",
    "            <td>float64</td>\n",
    "        </tr>\n",
    "    </table>\n",
    "</div>\n",
    "<br><br>"
   ]
  },
  {
   "cell_type": "code",
   "execution_count": null,
   "metadata": {
    "id": "fPjfYQSaXXn1"
   },
   "outputs": [],
   "source": []
  },
  {
   "cell_type": "markdown",
   "metadata": {
    "id": "S0qGbJqczmHA"
   },
   "source": [
    "<br>\n",
    "<br>\n",
    "<div dir=\"rtl\">\n",
    "<font size=\"6\">\n",
    "    <li>\n",
    "    <strong>ارزیابی و شناخت دیتاست</strong>\n",
    "    </li>\n",
    "</font>\n",
    "<font size=4>\n",
    "    در این قدم، شما باید دیتاست را بررسی کرده و ساختار آن را درک کنید. بررسی کنید که چه متغیرهایی در دیتاست وجود دارند، نوع داده‌ها چیست و آیا داده‌ها گمشده یا نادرست هستند یا خیر. این مرحله به شما کمک می‌کند که به‌طور کامل با داده‌ها آشنا شوید و مشکلات احتمالی را شناسایی کنید.\n",
    "</font>"
   ]
  },
  {
   "cell_type": "code",
   "execution_count": 1,
   "metadata": {
    "id": "22UVRWRH2Nbd"
   },
   "outputs": [],
   "source": [
    "import pandas as pd\n",
    "import numpy as np\n",
    "import matplotlib.pyplot as plt\n",
    "import seaborn as sns\n",
    "import os\n",
    "\n",
    "import warnings\n",
    "warnings.filterwarnings(\"ignore\")"
   ]
  },
  {
   "cell_type": "code",
   "execution_count": 2,
   "metadata": {
    "id": "rcHzjRE3Hfvj"
   },
   "outputs": [],
   "source": [
    "df = pd.read_csv(\"dataset.csv\")"
   ]
  },
  {
   "cell_type": "code",
   "execution_count": 3,
   "metadata": {
    "id": "JP6esntgqrEU"
   },
   "outputs": [
    {
     "data": {
      "text/html": [
       "<div>\n",
       "<style scoped>\n",
       "    .dataframe tbody tr th:only-of-type {\n",
       "        vertical-align: middle;\n",
       "    }\n",
       "\n",
       "    .dataframe tbody tr th {\n",
       "        vertical-align: top;\n",
       "    }\n",
       "\n",
       "    .dataframe thead th {\n",
       "        text-align: right;\n",
       "    }\n",
       "</style>\n",
       "<table border=\"1\" class=\"dataframe\">\n",
       "  <thead>\n",
       "    <tr style=\"text-align: right;\">\n",
       "      <th></th>\n",
       "      <th>Brand</th>\n",
       "      <th>Processor</th>\n",
       "      <th>RAM (GB)</th>\n",
       "      <th>Storage</th>\n",
       "      <th>GPU</th>\n",
       "      <th>Screen Size (inch)</th>\n",
       "      <th>Resolution</th>\n",
       "      <th>Battery Life (hours)</th>\n",
       "      <th>Weight (kg)</th>\n",
       "      <th>Operating System</th>\n",
       "      <th>Price ($)</th>\n",
       "    </tr>\n",
       "  </thead>\n",
       "  <tbody>\n",
       "    <tr>\n",
       "      <th>0</th>\n",
       "      <td>Apple</td>\n",
       "      <td>AMD Ryzen 3</td>\n",
       "      <td>64</td>\n",
       "      <td>512GB SSD</td>\n",
       "      <td>Nvidia GTX 1650</td>\n",
       "      <td>17.3</td>\n",
       "      <td>2560x1440</td>\n",
       "      <td>8.9</td>\n",
       "      <td>1.42</td>\n",
       "      <td>FreeDOS</td>\n",
       "      <td>3997.07</td>\n",
       "    </tr>\n",
       "    <tr>\n",
       "      <th>1</th>\n",
       "      <td>Razer</td>\n",
       "      <td>AMD Ryzen 7</td>\n",
       "      <td>4</td>\n",
       "      <td>1TB SSD</td>\n",
       "      <td>Nvidia RTX 3080</td>\n",
       "      <td>14.0</td>\n",
       "      <td>1366x768</td>\n",
       "      <td>9.4</td>\n",
       "      <td>2.57</td>\n",
       "      <td>Linux</td>\n",
       "      <td>1355.78</td>\n",
       "    </tr>\n",
       "    <tr>\n",
       "      <th>2</th>\n",
       "      <td>Asus</td>\n",
       "      <td>Intel i5</td>\n",
       "      <td>32</td>\n",
       "      <td>2TB SSD</td>\n",
       "      <td>Nvidia RTX 3060</td>\n",
       "      <td>13.3</td>\n",
       "      <td>3840x2160</td>\n",
       "      <td>8.5</td>\n",
       "      <td>1.74</td>\n",
       "      <td>FreeDOS</td>\n",
       "      <td>2673.07</td>\n",
       "    </tr>\n",
       "    <tr>\n",
       "      <th>3</th>\n",
       "      <td>Lenovo</td>\n",
       "      <td>Intel i5</td>\n",
       "      <td>4</td>\n",
       "      <td>256GB SSD</td>\n",
       "      <td>Nvidia RTX 3080</td>\n",
       "      <td>13.3</td>\n",
       "      <td>1366x768</td>\n",
       "      <td>10.5</td>\n",
       "      <td>3.10</td>\n",
       "      <td>Windows</td>\n",
       "      <td>751.17</td>\n",
       "    </tr>\n",
       "    <tr>\n",
       "      <th>4</th>\n",
       "      <td>Razer</td>\n",
       "      <td>Intel i3</td>\n",
       "      <td>4</td>\n",
       "      <td>256GB SSD</td>\n",
       "      <td>AMD Radeon RX 6600</td>\n",
       "      <td>16.0</td>\n",
       "      <td>3840x2160</td>\n",
       "      <td>5.7</td>\n",
       "      <td>3.38</td>\n",
       "      <td>Linux</td>\n",
       "      <td>2059.83</td>\n",
       "    </tr>\n",
       "  </tbody>\n",
       "</table>\n",
       "</div>"
      ],
      "text/plain": [
       "    Brand    Processor  RAM (GB)    Storage                 GPU  \\\n",
       "0   Apple  AMD Ryzen 3        64  512GB SSD     Nvidia GTX 1650   \n",
       "1   Razer  AMD Ryzen 7         4    1TB SSD     Nvidia RTX 3080   \n",
       "2    Asus     Intel i5        32    2TB SSD     Nvidia RTX 3060   \n",
       "3  Lenovo     Intel i5         4  256GB SSD     Nvidia RTX 3080   \n",
       "4   Razer     Intel i3         4  256GB SSD  AMD Radeon RX 6600   \n",
       "\n",
       "   Screen Size (inch) Resolution  Battery Life (hours)  Weight (kg)  \\\n",
       "0                17.3  2560x1440                   8.9         1.42   \n",
       "1                14.0   1366x768                   9.4         2.57   \n",
       "2                13.3  3840x2160                   8.5         1.74   \n",
       "3                13.3   1366x768                  10.5         3.10   \n",
       "4                16.0  3840x2160                   5.7         3.38   \n",
       "\n",
       "  Operating System  Price ($)  \n",
       "0          FreeDOS    3997.07  \n",
       "1            Linux    1355.78  \n",
       "2          FreeDOS    2673.07  \n",
       "3          Windows     751.17  \n",
       "4            Linux    2059.83  "
      ]
     },
     "execution_count": 3,
     "metadata": {},
     "output_type": "execute_result"
    }
   ],
   "source": [
    "df.head()"
   ]
  },
  {
   "cell_type": "code",
   "execution_count": 4,
   "metadata": {
    "id": "8jpIR2CkWMIw"
   },
   "outputs": [
    {
     "data": {
      "text/html": [
       "<div>\n",
       "<style scoped>\n",
       "    .dataframe tbody tr th:only-of-type {\n",
       "        vertical-align: middle;\n",
       "    }\n",
       "\n",
       "    .dataframe tbody tr th {\n",
       "        vertical-align: top;\n",
       "    }\n",
       "\n",
       "    .dataframe thead th {\n",
       "        text-align: right;\n",
       "    }\n",
       "</style>\n",
       "<table border=\"1\" class=\"dataframe\">\n",
       "  <thead>\n",
       "    <tr style=\"text-align: right;\">\n",
       "      <th></th>\n",
       "      <th>Brand</th>\n",
       "      <th>Processor</th>\n",
       "      <th>RAM (GB)</th>\n",
       "      <th>Storage</th>\n",
       "      <th>GPU</th>\n",
       "      <th>Screen Size (inch)</th>\n",
       "      <th>Resolution</th>\n",
       "      <th>Battery Life (hours)</th>\n",
       "      <th>Weight (kg)</th>\n",
       "      <th>Operating System</th>\n",
       "      <th>Price ($)</th>\n",
       "    </tr>\n",
       "  </thead>\n",
       "  <tbody>\n",
       "    <tr>\n",
       "      <th>11758</th>\n",
       "      <td>Samsung</td>\n",
       "      <td>Intel i5</td>\n",
       "      <td>8</td>\n",
       "      <td>512GB SSD</td>\n",
       "      <td>Nvidia RTX 2060</td>\n",
       "      <td>14.0</td>\n",
       "      <td>1366x768</td>\n",
       "      <td>11.3</td>\n",
       "      <td>2.24</td>\n",
       "      <td>Linux</td>\n",
       "      <td>929.32</td>\n",
       "    </tr>\n",
       "    <tr>\n",
       "      <th>11759</th>\n",
       "      <td>Lenovo</td>\n",
       "      <td>AMD Ryzen 9</td>\n",
       "      <td>32</td>\n",
       "      <td>1TB SSD</td>\n",
       "      <td>Nvidia RTX 3060</td>\n",
       "      <td>16.0</td>\n",
       "      <td>2560x1440</td>\n",
       "      <td>7.1</td>\n",
       "      <td>2.98</td>\n",
       "      <td>macOS</td>\n",
       "      <td>3696.04</td>\n",
       "    </tr>\n",
       "    <tr>\n",
       "      <th>11760</th>\n",
       "      <td>HP</td>\n",
       "      <td>AMD Ryzen 3</td>\n",
       "      <td>8</td>\n",
       "      <td>1TB SSD</td>\n",
       "      <td>AMD Radeon RX 6600</td>\n",
       "      <td>13.3</td>\n",
       "      <td>1920x1080</td>\n",
       "      <td>10.3</td>\n",
       "      <td>3.36</td>\n",
       "      <td>macOS</td>\n",
       "      <td>950.07</td>\n",
       "    </tr>\n",
       "    <tr>\n",
       "      <th>11761</th>\n",
       "      <td>Dell</td>\n",
       "      <td>Intel i3</td>\n",
       "      <td>64</td>\n",
       "      <td>1TB SSD</td>\n",
       "      <td>AMD Radeon RX 6600</td>\n",
       "      <td>17.3</td>\n",
       "      <td>2560x1440</td>\n",
       "      <td>11.5</td>\n",
       "      <td>1.93</td>\n",
       "      <td>Windows</td>\n",
       "      <td>2683.44</td>\n",
       "    </tr>\n",
       "    <tr>\n",
       "      <th>11762</th>\n",
       "      <td>Apple</td>\n",
       "      <td>AMD Ryzen 9</td>\n",
       "      <td>16</td>\n",
       "      <td>1TB HDD</td>\n",
       "      <td>AMD Radeon RX 6600</td>\n",
       "      <td>15.6</td>\n",
       "      <td>1920x1080</td>\n",
       "      <td>10.9</td>\n",
       "      <td>1.55</td>\n",
       "      <td>FreeDOS</td>\n",
       "      <td>2704.23</td>\n",
       "    </tr>\n",
       "    <tr>\n",
       "      <th>11763</th>\n",
       "      <td>Acer</td>\n",
       "      <td>Intel i3</td>\n",
       "      <td>4</td>\n",
       "      <td>2TB SSD</td>\n",
       "      <td>Nvidia RTX 2060</td>\n",
       "      <td>17.3</td>\n",
       "      <td>1366x768</td>\n",
       "      <td>11.5</td>\n",
       "      <td>1.58</td>\n",
       "      <td>macOS</td>\n",
       "      <td>704.82</td>\n",
       "    </tr>\n",
       "    <tr>\n",
       "      <th>11764</th>\n",
       "      <td>Asus</td>\n",
       "      <td>Intel i3</td>\n",
       "      <td>4</td>\n",
       "      <td>2TB SSD</td>\n",
       "      <td>AMD Radeon RX 6800</td>\n",
       "      <td>16.0</td>\n",
       "      <td>1366x768</td>\n",
       "      <td>9.5</td>\n",
       "      <td>2.14</td>\n",
       "      <td>Linux</td>\n",
       "      <td>775.59</td>\n",
       "    </tr>\n",
       "    <tr>\n",
       "      <th>11765</th>\n",
       "      <td>Razer</td>\n",
       "      <td>AMD Ryzen 9</td>\n",
       "      <td>4</td>\n",
       "      <td>2TB SSD</td>\n",
       "      <td>AMD Radeon RX 6600</td>\n",
       "      <td>15.6</td>\n",
       "      <td>2560x1440</td>\n",
       "      <td>8.2</td>\n",
       "      <td>2.05</td>\n",
       "      <td>Linux</td>\n",
       "      <td>2789.46</td>\n",
       "    </tr>\n",
       "    <tr>\n",
       "      <th>11766</th>\n",
       "      <td>Samsung</td>\n",
       "      <td>AMD Ryzen 7</td>\n",
       "      <td>16</td>\n",
       "      <td>512GB SSD</td>\n",
       "      <td>Integrated</td>\n",
       "      <td>13.3</td>\n",
       "      <td>1920x1080</td>\n",
       "      <td>7.5</td>\n",
       "      <td>1.48</td>\n",
       "      <td>macOS</td>\n",
       "      <td>1067.13</td>\n",
       "    </tr>\n",
       "    <tr>\n",
       "      <th>11767</th>\n",
       "      <td>Samsung</td>\n",
       "      <td>Intel i7</td>\n",
       "      <td>8</td>\n",
       "      <td>256GB SSD</td>\n",
       "      <td>Nvidia RTX 3080</td>\n",
       "      <td>17.3</td>\n",
       "      <td>2560x1440</td>\n",
       "      <td>6.4</td>\n",
       "      <td>2.45</td>\n",
       "      <td>FreeDOS</td>\n",
       "      <td>1579.55</td>\n",
       "    </tr>\n",
       "  </tbody>\n",
       "</table>\n",
       "</div>"
      ],
      "text/plain": [
       "         Brand    Processor  RAM (GB)    Storage                 GPU  \\\n",
       "11758  Samsung     Intel i5         8  512GB SSD     Nvidia RTX 2060   \n",
       "11759   Lenovo  AMD Ryzen 9        32    1TB SSD     Nvidia RTX 3060   \n",
       "11760       HP  AMD Ryzen 3         8    1TB SSD  AMD Radeon RX 6600   \n",
       "11761     Dell     Intel i3        64    1TB SSD  AMD Radeon RX 6600   \n",
       "11762    Apple  AMD Ryzen 9        16    1TB HDD  AMD Radeon RX 6600   \n",
       "11763     Acer     Intel i3         4    2TB SSD     Nvidia RTX 2060   \n",
       "11764     Asus     Intel i3         4    2TB SSD  AMD Radeon RX 6800   \n",
       "11765    Razer  AMD Ryzen 9         4    2TB SSD  AMD Radeon RX 6600   \n",
       "11766  Samsung  AMD Ryzen 7        16  512GB SSD          Integrated   \n",
       "11767  Samsung     Intel i7         8  256GB SSD     Nvidia RTX 3080   \n",
       "\n",
       "       Screen Size (inch) Resolution  Battery Life (hours)  Weight (kg)  \\\n",
       "11758                14.0   1366x768                  11.3         2.24   \n",
       "11759                16.0  2560x1440                   7.1         2.98   \n",
       "11760                13.3  1920x1080                  10.3         3.36   \n",
       "11761                17.3  2560x1440                  11.5         1.93   \n",
       "11762                15.6  1920x1080                  10.9         1.55   \n",
       "11763                17.3   1366x768                  11.5         1.58   \n",
       "11764                16.0   1366x768                   9.5         2.14   \n",
       "11765                15.6  2560x1440                   8.2         2.05   \n",
       "11766                13.3  1920x1080                   7.5         1.48   \n",
       "11767                17.3  2560x1440                   6.4         2.45   \n",
       "\n",
       "      Operating System  Price ($)  \n",
       "11758            Linux     929.32  \n",
       "11759            macOS    3696.04  \n",
       "11760            macOS     950.07  \n",
       "11761          Windows    2683.44  \n",
       "11762          FreeDOS    2704.23  \n",
       "11763            macOS     704.82  \n",
       "11764            Linux     775.59  \n",
       "11765            Linux    2789.46  \n",
       "11766            macOS    1067.13  \n",
       "11767          FreeDOS    1579.55  "
      ]
     },
     "execution_count": 4,
     "metadata": {},
     "output_type": "execute_result"
    }
   ],
   "source": [
    "df.tail(10)"
   ]
  },
  {
   "cell_type": "code",
   "execution_count": 5,
   "metadata": {},
   "outputs": [
    {
     "name": "stdout",
     "output_type": "stream",
     "text": [
      "Rows: 11768 | Columns: 11\n"
     ]
    }
   ],
   "source": [
    "print(f\"Rows: {df.shape[0]} | Columns: {df.shape[1]}\")"
   ]
  },
  {
   "cell_type": "code",
   "execution_count": 6,
   "metadata": {
    "id": "in1LP0wG5lUN"
   },
   "outputs": [
    {
     "name": "stdout",
     "output_type": "stream",
     "text": [
      "<class 'pandas.core.frame.DataFrame'>\n",
      "RangeIndex: 11768 entries, 0 to 11767\n",
      "Data columns (total 11 columns):\n",
      " #   Column                Non-Null Count  Dtype  \n",
      "---  ------                --------------  -----  \n",
      " 0   Brand                 11768 non-null  object \n",
      " 1   Processor             11768 non-null  object \n",
      " 2   RAM (GB)              11768 non-null  int64  \n",
      " 3   Storage               11768 non-null  object \n",
      " 4   GPU                   11768 non-null  object \n",
      " 5   Screen Size (inch)    11768 non-null  float64\n",
      " 6   Resolution            11768 non-null  object \n",
      " 7   Battery Life (hours)  11768 non-null  float64\n",
      " 8   Weight (kg)           11768 non-null  float64\n",
      " 9   Operating System      11768 non-null  object \n",
      " 10  Price ($)             11768 non-null  float64\n",
      "dtypes: float64(4), int64(1), object(6)\n",
      "memory usage: 1011.4+ KB\n"
     ]
    }
   ],
   "source": [
    "df.info()"
   ]
  },
  {
   "cell_type": "markdown",
   "metadata": {
    "id": "3AvnbnBf2ImN"
   },
   "source": [
    "<div dir=\"rtl\" style=\"text-align: center;\">\n",
    "    <p>\n",
    "        <font size=4>\n",
    "            <li>\n",
    "                داده های تکراری (Duplicates) و داده های گم شده (Missing Values) را بررسی و ارزیابی کنید.\n",
    "                <strong>سپس مقادیر تکراری را حذف کنید.</strong>\n",
    "            </li>\n",
    "        </font>\n",
    "    </p>\n",
    "</div>"
   ]
  },
  {
   "cell_type": "code",
   "execution_count": 7,
   "metadata": {
    "id": "bbOoKKT57cfI"
   },
   "outputs": [
    {
     "data": {
      "text/plain": [
       "Brand                   0\n",
       "Processor               0\n",
       "RAM (GB)                0\n",
       "Storage                 0\n",
       "GPU                     0\n",
       "Screen Size (inch)      0\n",
       "Resolution              0\n",
       "Battery Life (hours)    0\n",
       "Weight (kg)             0\n",
       "Operating System        0\n",
       "Price ($)               0\n",
       "dtype: int64"
      ]
     },
     "execution_count": 7,
     "metadata": {},
     "output_type": "execute_result"
    }
   ],
   "source": [
    "df.isna().sum()"
   ]
  },
  {
   "cell_type": "code",
   "execution_count": 8,
   "metadata": {
    "id": "PL5PDc8n-z6q"
   },
   "outputs": [
    {
     "data": {
      "text/plain": [
       "0"
      ]
     },
     "execution_count": 8,
     "metadata": {},
     "output_type": "execute_result"
    }
   ],
   "source": [
    "df.duplicated().sum()\n"
   ]
  },
  {
   "cell_type": "markdown",
   "metadata": {
    "id": "eQNB8eNK23Rm"
   },
   "source": [
    "<div dir=\"rtl\" style=\"text-align: center;\">\n",
    "    <p>\n",
    "        <font size=4>\n",
    "            <li>\n",
    "                تعداد مقادیر یکتا (Unique) در هر ویژگی را بررسی کنید.\n",
    "            </li>\n",
    "        </font>\n",
    "    </p>\n",
    "</div>"
   ]
  },
  {
   "cell_type": "code",
   "execution_count": 9,
   "metadata": {
    "id": "bXlcoNUvC0Gy"
   },
   "outputs": [
    {
     "data": {
      "text/plain": [
       "Brand                      10\n",
       "Processor                   8\n",
       "RAM (GB)                    5\n",
       "Storage                     5\n",
       "GPU                         7\n",
       "Screen Size (inch)          5\n",
       "Resolution                  4\n",
       "Battery Life (hours)       81\n",
       "Weight (kg)               231\n",
       "Operating System            4\n",
       "Price ($)               11558\n",
       "dtype: int64"
      ]
     },
     "execution_count": 9,
     "metadata": {},
     "output_type": "execute_result"
    }
   ],
   "source": [
    "df.nunique()"
   ]
  },
  {
   "cell_type": "markdown",
   "metadata": {
    "id": "PTaLd0GW3A_p"
   },
   "source": [
    "<div dir=\"rtl\">\n",
    "    <p>\n",
    "        <font size=4>\n",
    "            <li>\n",
    "                جدول Describe را برای این دیتافریم بررسی کنیدو ارزیابی اولیه خودتان را در مورد این دیتافریم بنویسید.\n",
    "                در ادامه که نمونه از ارزیابی اولیه برای شما نوشته شده است که لازم است با آن توجه داشته باشید\n",
    "            </li>\n",
    "        </font>\n",
    "    </p>\n",
    "</div>"
   ]
  },
  {
   "cell_type": "code",
   "execution_count": 10,
   "metadata": {
    "id": "z2NrOlX7FbeA"
   },
   "outputs": [
    {
     "data": {
      "text/html": [
       "<div>\n",
       "<style scoped>\n",
       "    .dataframe tbody tr th:only-of-type {\n",
       "        vertical-align: middle;\n",
       "    }\n",
       "\n",
       "    .dataframe tbody tr th {\n",
       "        vertical-align: top;\n",
       "    }\n",
       "\n",
       "    .dataframe thead th {\n",
       "        text-align: right;\n",
       "    }\n",
       "</style>\n",
       "<table border=\"1\" class=\"dataframe\">\n",
       "  <thead>\n",
       "    <tr style=\"text-align: right;\">\n",
       "      <th></th>\n",
       "      <th>RAM (GB)</th>\n",
       "      <th>Screen Size (inch)</th>\n",
       "      <th>Battery Life (hours)</th>\n",
       "      <th>Weight (kg)</th>\n",
       "      <th>Price ($)</th>\n",
       "    </tr>\n",
       "  </thead>\n",
       "  <tbody>\n",
       "    <tr>\n",
       "      <th>count</th>\n",
       "      <td>11768.000000</td>\n",
       "      <td>11768.000000</td>\n",
       "      <td>11768.000000</td>\n",
       "      <td>11768.000000</td>\n",
       "      <td>11768.000000</td>\n",
       "    </tr>\n",
       "    <tr>\n",
       "      <th>mean</th>\n",
       "      <td>24.852821</td>\n",
       "      <td>15.212305</td>\n",
       "      <td>8.027855</td>\n",
       "      <td>2.341117</td>\n",
       "      <td>2183.571608</td>\n",
       "    </tr>\n",
       "    <tr>\n",
       "      <th>std</th>\n",
       "      <td>21.762567</td>\n",
       "      <td>1.436997</td>\n",
       "      <td>2.305400</td>\n",
       "      <td>0.667921</td>\n",
       "      <td>1316.886132</td>\n",
       "    </tr>\n",
       "    <tr>\n",
       "      <th>min</th>\n",
       "      <td>4.000000</td>\n",
       "      <td>13.300000</td>\n",
       "      <td>4.000000</td>\n",
       "      <td>1.200000</td>\n",
       "      <td>279.570000</td>\n",
       "    </tr>\n",
       "    <tr>\n",
       "      <th>25%</th>\n",
       "      <td>8.000000</td>\n",
       "      <td>14.000000</td>\n",
       "      <td>6.000000</td>\n",
       "      <td>1.760000</td>\n",
       "      <td>1272.045000</td>\n",
       "    </tr>\n",
       "    <tr>\n",
       "      <th>50%</th>\n",
       "      <td>16.000000</td>\n",
       "      <td>15.600000</td>\n",
       "      <td>8.000000</td>\n",
       "      <td>2.340000</td>\n",
       "      <td>1840.865000</td>\n",
       "    </tr>\n",
       "    <tr>\n",
       "      <th>75%</th>\n",
       "      <td>32.000000</td>\n",
       "      <td>16.000000</td>\n",
       "      <td>10.000000</td>\n",
       "      <td>2.910000</td>\n",
       "      <td>2698.370000</td>\n",
       "    </tr>\n",
       "    <tr>\n",
       "      <th>max</th>\n",
       "      <td>64.000000</td>\n",
       "      <td>17.300000</td>\n",
       "      <td>12.000000</td>\n",
       "      <td>3.500000</td>\n",
       "      <td>10807.880000</td>\n",
       "    </tr>\n",
       "  </tbody>\n",
       "</table>\n",
       "</div>"
      ],
      "text/plain": [
       "           RAM (GB)  Screen Size (inch)  Battery Life (hours)   Weight (kg)  \\\n",
       "count  11768.000000        11768.000000          11768.000000  11768.000000   \n",
       "mean      24.852821           15.212305              8.027855      2.341117   \n",
       "std       21.762567            1.436997              2.305400      0.667921   \n",
       "min        4.000000           13.300000              4.000000      1.200000   \n",
       "25%        8.000000           14.000000              6.000000      1.760000   \n",
       "50%       16.000000           15.600000              8.000000      2.340000   \n",
       "75%       32.000000           16.000000             10.000000      2.910000   \n",
       "max       64.000000           17.300000             12.000000      3.500000   \n",
       "\n",
       "          Price ($)  \n",
       "count  11768.000000  \n",
       "mean    2183.571608  \n",
       "std     1316.886132  \n",
       "min      279.570000  \n",
       "25%     1272.045000  \n",
       "50%     1840.865000  \n",
       "75%     2698.370000  \n",
       "max    10807.880000  "
      ]
     },
     "execution_count": 10,
     "metadata": {},
     "output_type": "execute_result"
    }
   ],
   "source": [
    "df.describe()"
   ]
  },
  {
   "cell_type": "code",
   "execution_count": 11,
   "metadata": {},
   "outputs": [
    {
     "data": {
      "text/plain": [
       "Brand                    object\n",
       "Processor                object\n",
       "RAM (GB)                  int64\n",
       "Storage                  object\n",
       "GPU                      object\n",
       "Screen Size (inch)      float64\n",
       "Resolution               object\n",
       "Battery Life (hours)    float64\n",
       "Weight (kg)             float64\n",
       "Operating System         object\n",
       "Price ($)               float64\n",
       "dtype: object"
      ]
     },
     "execution_count": 11,
     "metadata": {},
     "output_type": "execute_result"
    }
   ],
   "source": [
    "df.dtypes"
   ]
  },
  {
   "cell_type": "markdown",
   "metadata": {
    "id": "3ned43_OiLYd"
   },
   "source": [
    "<div dir=\"rtl\">\n",
    "<font size=\"6\">\n",
    "    <li>\n",
    "    <strong>مصورسازی</strong>\n",
    "    </li>\n",
    "</font>\n",
    "<div dir=\"rtl\">\n",
    "    <font size=\"4\">\n",
    "        در این مرحله، با استفاده از نمودارهای مناسب مانند پراکندگی (Scatter plot)، هیستوگرام و جعبه‌ای (Box plot)، روابط بین ویژگی‌ها و متغیر هدف را بررسی کنید.  \n",
    "        این تحلیل به درک بهتر الگوهای داده و شناسایی روابط پنهان کمک می‌کند.  \n",
    "        <br><font>پیاده‌سازی پلات‌های مشخص‌شده ضروری است. همچنین، برای هر پلات، یک خط تحلیل ارائه دهید و در بخش ارزیابی بنویسید.</font>\n",
    "    </font>\n",
    "</div>\n",
    "<br>\n"
   ]
  },
  {
   "cell_type": "code",
   "execution_count": 12,
   "metadata": {
    "id": "LH6geW5l1Zqe"
   },
   "outputs": [
    {
     "data": {
      "image/png": "[encoded data removed]",
      "text/plain": [
       "<Figure size 640x480 with 1 Axes>"
      ]
     },
     "metadata": {},
     "output_type": "display_data"
    }
   ],
   "source": [
    "plt.hist(df['Price ($)'], bins=30)\n",
    "plt.title('Distribution of Laptop Prices',\n",
    "          fontsize=13,\n",
    "          fontweight=\"bold\",\n",
    "          color=\"darkred\")\n",
    "plt.xlabel('Price ($)', fontsize=10)\n",
    "plt.ylabel('Frequency', fontsize=10)\n",
    "plt.show()\n"
   ]
  },
  {
   "cell_type": "code",
   "execution_count": 13,
   "metadata": {},
   "outputs": [
    {
     "data": {
      "text/plain": [
       "Index(['Apple', 'HP', 'MSI', 'Microsoft', 'Dell', 'Asus', 'Acer', 'Samsung',\n",
       "       'Lenovo', 'Razer'],\n",
       "      dtype='object', name='Brand')"
      ]
     },
     "execution_count": 13,
     "metadata": {},
     "output_type": "execute_result"
    }
   ],
   "source": [
    "df['Brand'].value_counts().index"
   ]
  },
  {
   "cell_type": "code",
   "execution_count": 14,
   "metadata": {
    "id": "OSe8CxYchy_6"
   },
   "outputs": [
    {
     "data": {
      "image/png": "[encoded data removed]",
      "text/plain": [
       "<Figure size 1000x500 with 1 Axes>"
      ]
     },
     "metadata": {},
     "output_type": "display_data"
    }
   ],
   "source": [
    "plt.figure(figsize=(10,5))\n",
    "sns.countplot(y=df['Brand'], order=df['Brand'].value_counts().index, palette='Blues')\n",
    "\n",
    "plt.title('Number of Laptops by Brand',\n",
    "          fontsize=13,\n",
    "          fontweight=\"bold\",\n",
    "          color=\"darkred\")\n",
    "plt.xlabel('Count', fontsize=10)\n",
    "plt.ylabel('Brand', fontsize=10)\n",
    "plt.show()"
   ]
  },
  {
   "cell_type": "markdown",
   "metadata": {
    "id": "9Ujiy-hm1EFe"
   },
   "source": [
    "<div dir=\"rtl\">\n",
    "    <p>\n",
    "        <font size=4>\n",
    "            <li>\n",
    "                میانگین قیمت برای هر برند را با Bar Plot نشان دهید.\n",
    "            </li>\n",
    "        </font>\n",
    "    </p>\n",
    "</div>\n",
    "<br>"
   ]
  },
  {
   "cell_type": "code",
   "execution_count": 15,
   "metadata": {
    "id": "6imhX6G2hy63"
   },
   "outputs": [
    {
     "data": {
      "image/png": "[encoded data removed]",
      "text/plain": [
       "<Figure size 1000x500 with 1 Axes>"
      ]
     },
     "metadata": {},
     "output_type": "display_data"
    }
   ],
   "source": [
    "df_brand_price = df.groupby(\"Brand\")[\"Price ($)\"].mean().sort_values()\n",
    "df_brand_price.plot(kind='barh',figsize=(10,5),color = 'blue')\n",
    "plt.title('Average Price of Laptops by Brand',\n",
    "        fontsize=13,\n",
    "        fontweight=\"bold\",\n",
    "        color=\"darkred\")\n",
    "plt.xlabel('Average Price ($)', fontsize=10)\n",
    "plt.ylabel('Brand', fontsize=10)\n",
    "plt.show()"
   ]
  },
  {
   "cell_type": "code",
   "execution_count": 16,
   "metadata": {
    "id": "cNrpXgUFhz7z"
   },
   "outputs": [
    {
     "data": {
      "image/png": "[encoded data removed]",
      "text/plain": [
       "<Figure size 1200x600 with 1 Axes>"
      ]
     },
     "metadata": {},
     "output_type": "display_data"
    }
   ],
   "source": [
    "plt.figure(figsize=(12, 6))\n",
    "sns.boxplot(x=\"Brand\", y=\"Price ($)\", data=df, palette='Blues')\n",
    "plt.xticks(rotation=45)\n",
    "plt.title('Price Distribution by Brand',\n",
    "          fontsize=13,\n",
    "          fontweight=\"bold\",\n",
    "          color=\"darkred\")\n",
    "plt.xlabel(\"Price\", fontsize=10)\n",
    "plt.ylabel(\"Brand\", fontsize=10)\n",
    "plt.show()"
   ]
  },
  {
   "cell_type": "markdown",
   "metadata": {
    "id": "VMQKPHU2VUqS"
   },
   "source": [
    "<br>\n",
    "<div dir=\"rtl\">\n",
    "    <p>\n",
    "        <font size=4>\n",
    "            <li>\n",
    "                    داده های پرت (Outliers) ها در این دیتاست بررسی کنید و به کمک نمودار Boxplot وضیعت آنها را نمایش دهید\n",
    "            </li>\n",
    "        </font>\n",
    "    </p>\n",
    "</div>\n",
    "<br>"
   ]
  },
  {
   "cell_type": "code",
   "execution_count": 17,
   "metadata": {},
   "outputs": [
    {
     "data": {
      "text/plain": [
       "Index(['RAM (GB)', 'Screen Size (inch)', 'Battery Life (hours)', 'Weight (kg)',\n",
       "       'Price ($)'],\n",
       "      dtype='object')"
      ]
     },
     "execution_count": 17,
     "metadata": {},
     "output_type": "execute_result"
    }
   ],
   "source": [
    "numeric_col = df.select_dtypes(include=[\"number\"]).columns\n",
    "numeric_col\n"
   ]
  },
  {
   "cell_type": "code",
   "execution_count": 18,
   "metadata": {
    "id": "aze6E18NVE-D"
   },
   "outputs": [
    {
     "data": {
      "image/png": "[encoded data removed]",
      "text/plain": [
       "<Figure size 800x1000 with 5 Axes>"
      ]
     },
     "metadata": {},
     "output_type": "display_data"
    }
   ],
   "source": [
    "numeric_col = df.select_dtypes(include=[\"number\"]).columns\n",
    "\n",
    "plt.figure(figsize=(8, 10))\n",
    "sns.set_style('darkgrid')\n",
    "\n",
    "for i, col in enumerate(numeric_col, 1):\n",
    "    plt.subplot(3, 2, i)\n",
    "    sns.boxplot(x=df[col], width=0.5)\n",
    "    plt.title(f\"Boxplot of {col}\")\n",
    "\n",
    "plt.tight_layout()\n",
    "plt.show()"
   ]
  },
  {
   "cell_type": "code",
   "execution_count": 19,
   "metadata": {
    "id": "Sq_tOVOyhz5G"
   },
   "outputs": [
    {
     "data": {
      "image/png": "[encoded data removed]",
      "text/plain": [
       "<Figure size 1000x500 with 1 Axes>"
      ]
     },
     "metadata": {},
     "output_type": "display_data"
    }
   ],
   "source": [
    "df_processor_price = df.groupby(\"Processor\")[\"Price ($)\"].mean().sort_values()\n",
    "df_processor_price.plot(kind='barh', figsize=(10, 5), color='blue')\n",
    "plt.title('Average Price by Processor',\n",
    "          fontsize=13,\n",
    "          fontweight=\"bold\",\n",
    "          color=\"darkred\")\n",
    "plt.xlabel('Average Price ($)', fontsize=10)\n",
    "plt.ylabel('Processor', fontsize=10)\n",
    "plt.show()"
   ]
  },
  {
   "cell_type": "code",
   "execution_count": 20,
   "metadata": {
    "id": "7AqE1N-xhzz8"
   },
   "outputs": [
    {
     "data": {
      "image/png": "[encoded data removed]",
      "text/plain": [
       "<Figure size 1000x500 with 1 Axes>"
      ]
     },
     "metadata": {},
     "output_type": "display_data"
    }
   ],
   "source": [
    "df_pivot = df.pivot_table(values='Price ($)', index='RAM (GB)', aggfunc='mean')\n",
    "df_pivot.plot(kind='bar',\n",
    "              figsize=(10, 5),\n",
    "              color='blue')\n",
    "plt.title('Average Price by RAM Size',\n",
    "          fontsize=13,\n",
    "          fontweight=\"bold\",\n",
    "          color=\"darkred\")\n",
    "plt.xlabel('RAM (GB)', fontsize=10)\n",
    "plt.ylabel('Average Price ($)', fontsize=10)\n",
    "plt.show()\n"
   ]
  },
  {
   "cell_type": "markdown",
   "metadata": {
    "id": "8caeDzSl3B3k"
   },
   "source": [
    "<br>\n",
    "<br>\n",
    "<div dir=\"rtl\">\n",
    "    <p>\n",
    "        <font size=4>\n",
    "            <li>\n",
    "                از نمودار Pie برای بررسی سهم سیستم عامل لپ تاپ ها استفاده کنید.\n",
    "            </li>\n",
    "        </font>\n",
    "    </p>\n",
    "</div>"
   ]
  },
  {
   "cell_type": "code",
   "execution_count": 21,
   "metadata": {},
   "outputs": [
    {
     "name": "stdout",
     "output_type": "stream",
     "text": [
      "Looking in indexes: http://nexus.aiopt.io:8081/repository/repo-pypi/simple\n",
      "Requirement already satisfied: nbformat in c:\\users\\m.yaghoubi\\appdata\\roaming\\python\\python312\\site-packages (5.10.4)\n",
      "Requirement already satisfied: fastjsonschema>=2.15 in c:\\users\\m.yaghoubi\\appdata\\roaming\\python\\python312\\site-packages (from nbformat) (2.21.2)\n",
      "Requirement already satisfied: jsonschema>=2.6 in c:\\users\\m.yaghoubi\\appdata\\roaming\\python\\python312\\site-packages (from nbformat) (4.24.0)\n",
      "Requirement already satisfied: jupyter-core!=5.0.*,>=4.12 in c:\\users\\m.yaghoubi\\appdata\\roaming\\python\\python312\\site-packages (from nbformat) (5.8.1)\n",
      "Requirement already satisfied: traitlets>=5.1 in c:\\users\\m.yaghoubi\\appdata\\roaming\\python\\python312\\site-packages (from nbformat) (5.14.3)\n",
      "Requirement already satisfied: attrs>=22.2.0 in c:\\users\\m.yaghoubi\\appdata\\roaming\\python\\python312\\site-packages (from jsonschema>=2.6->nbformat) (25.3.0)\n",
      "Requirement already satisfied: jsonschema-specifications>=2023.03.6 in c:\\users\\m.yaghoubi\\appdata\\roaming\\python\\python312\\site-packages (from jsonschema>=2.6->nbformat) (2025.4.1)\n",
      "Requirement already satisfied: referencing>=0.28.4 in c:\\users\\m.yaghoubi\\appdata\\roaming\\python\\python312\\site-packages (from jsonschema>=2.6->nbformat) (0.36.2)\n",
      "Requirement already satisfied: rpds-py>=0.7.1 in c:\\users\\m.yaghoubi\\appdata\\roaming\\python\\python312\\site-packages (from jsonschema>=2.6->nbformat) (0.25.1)\n",
      "Requirement already satisfied: platformdirs>=2.5 in c:\\users\\m.yaghoubi\\appdata\\roaming\\python\\python312\\site-packages (from jupyter-core!=5.0.*,>=4.12->nbformat) (4.3.8)\n",
      "Requirement already satisfied: pywin32>=300 in c:\\users\\m.yaghoubi\\appdata\\roaming\\python\\python312\\site-packages (from jupyter-core!=5.0.*,>=4.12->nbformat) (310)\n",
      "Requirement already satisfied: typing-extensions>=4.4.0 in c:\\users\\m.yaghoubi\\appdata\\roaming\\python\\python312\\site-packages (from referencing>=0.28.4->jsonschema>=2.6->nbformat) (4.14.1)\n"
     ]
    },
    {
     "name": "stderr",
     "output_type": "stream",
     "text": [
      "\n",
      "[notice] A new release of pip is available: 25.1.1 -> 25.2\n",
      "[notice] To update, run: python.exe -m pip install --upgrade pip\n"
     ]
    }
   ],
   "source": [
    "! pip install nbformat"
   ]
  },
  {
   "cell_type": "code",
   "execution_count": 22,
   "metadata": {
    "id": "SlF2INT0sAEi"
   },
   "outputs": [],
   "source": [
    "import plotly.express as px\n",
    "import plotly.graph_objects as go\n",
    "from plotly.colors import qualitative"
   ]
  },
  {
   "cell_type": "code",
   "execution_count": 23,
   "metadata": {
    "id": "1ITUN5ofJ01I"
   },
   "outputs": [
    {
     "data": {
      "application/vnd.plotly.v1+json": {
       "config": {
        "plotlyServerURL": "https://plot.ly"
       },
       "data": [
        {
         "domain": {
          "x": [
           0,
           1
          ],
          "y": [
           0,
           1
          ]
         },
         "hole": 0.3,
         "hovertemplate": "Operating System=%{label}<br>value=%{value}<extra></extra>",
         "labels": [
          "Windows",
          "FreeDOS",
          "Linux",
          "macOS"
         ],
         "legendgroup": "",
         "marker": {
          "line": {
           "color": "#FFFFFF",
           "width": 2
          }
         },
         "name": "",
         "showlegend": true,
         "textfont": {
          "color": "gray",
          "size": 14
         },
         "textinfo": "percent+label",
         "type": "pie",
         "values": {
          "bdata": "iguIC4ILZAs=",
          "dtype": "i2"
         }
        }
       ],
       "layout": {
        "height": 600,
        "legend": {
         "font": {
          "color": "gray"
         },
         "orientation": "h",
         "tracegroupgap": 0,
         "x": 0.5,
         "xanchor": "center",
         "y": 1.02,
         "yanchor": "bottom"
        },
        "paper_bgcolor": "rgba(0,0,0,0)",
        "piecolorway": [
         "rgb(102, 197, 204)",
         "rgb(246, 207, 113)",
         "rgb(248, 156, 116)",
         "rgb(220, 176, 242)",
         "rgb(135, 197, 95)",
         "rgb(158, 185, 243)",
         "rgb(254, 136, 177)",
         "rgb(201, 219, 116)",
         "rgb(139, 224, 164)",
         "rgb(180, 151, 231)",
         "rgb(179, 179, 179)"
        ],
        "plot_bgcolor": "rgba(0,0,0,0)",
        "showlegend": true,
        "template": {
         "data": {
          "bar": [
           {
            "error_x": {
             "color": "#2a3f5f"
            },
            "error_y": {
             "color": "#2a3f5f"
            },
            "marker": {
             "line": {
              "color": "#E5ECF6",
              "width": 0.5
             },
             "pattern": {
              "fillmode": "overlay",
              "size": 10,
              "solidity": 0.2
             }
            },
            "type": "bar"
           }
          ],
          "barpolar": [
           {
            "marker": {
             "line": {
              "color": "#E5ECF6",
              "width": 0.5
             },
             "pattern": {
              "fillmode": "overlay",
              "size": 10,
              "solidity": 0.2
             }
            },
            "type": "barpolar"
           }
          ],
          "carpet": [
           {
            "aaxis": {
             "endlinecolor": "#2a3f5f",
             "gridcolor": "white",
             "linecolor": "white",
             "minorgridcolor": "white",
             "startlinecolor": "#2a3f5f"
            },
            "baxis": {
             "endlinecolor": "#2a3f5f",
             "gridcolor": "white",
             "linecolor": "white",
             "minorgridcolor": "white",
             "startlinecolor": "#2a3f5f"
            },
            "type": "carpet"
           }
          ],
          "choropleth": [
           {
            "colorbar": {
             "outlinewidth": 0,
             "ticks": ""
            },
            "type": "choropleth"
           }
          ],
          "contour": [
           {
            "colorbar": {
             "outlinewidth": 0,
             "ticks": ""
            },
            "colorscale": [
             [
              0,
              "#0d0887"
             ],
             [
              0.1111111111111111,
              "#46039f"
             ],
             [
              0.2222222222222222,
              "#7201a8"
             ],
             [
              0.3333333333333333,
              "#9c179e"
             ],
             [
              0.4444444444444444,
              "#bd3786"
             ],
             [
              0.5555555555555556,
              "#d8576b"
             ],
             [
              0.6666666666666666,
              "#ed7953"
             ],
             [
              0.7777777777777778,
              "#fb9f3a"
             ],
             [
              0.8888888888888888,
              "#fdca26"
             ],
             [
              1,
              "#f0f921"
             ]
            ],
            "type": "contour"
           }
          ],
          "contourcarpet": [
           {
            "colorbar": {
             "outlinewidth": 0,
             "ticks": ""
            },
            "type": "contourcarpet"
           }
          ],
          "heatmap": [
           {
            "colorbar": {
             "outlinewidth": 0,
             "ticks": ""
            },
            "colorscale": [
             [
              0,
              "#0d0887"
             ],
             [
              0.1111111111111111,
              "#46039f"
             ],
             [
              0.2222222222222222,
              "#7201a8"
             ],
             [
              0.3333333333333333,
              "#9c179e"
             ],
             [
              0.4444444444444444,
              "#bd3786"
             ],
             [
              0.5555555555555556,
              "#d8576b"
             ],
             [
              0.6666666666666666,
              "#ed7953"
             ],
             [
              0.7777777777777778,
              "#fb9f3a"
             ],
             [
              0.8888888888888888,
              "#fdca26"
             ],
             [
              1,
              "#f0f921"
             ]
            ],
            "type": "heatmap"
           }
          ],
          "histogram": [
           {
            "marker": {
             "pattern": {
              "fillmode": "overlay",
              "size": 10,
              "solidity": 0.2
             }
            },
            "type": "histogram"
           }
          ],
          "histogram2d": [
           {
            "colorbar": {
             "outlinewidth": 0,
             "ticks": ""
            },
            "colorscale": [
             [
              0,
              "#0d0887"
             ],
             [
              0.1111111111111111,
              "#46039f"
             ],
             [
              0.2222222222222222,
              "#7201a8"
             ],
             [
              0.3333333333333333,
              "#9c179e"
             ],
             [
              0.4444444444444444,
              "#bd3786"
             ],
             [
              0.5555555555555556,
              "#d8576b"
             ],
             [
              0.6666666666666666,
              "#ed7953"
             ],
             [
              0.7777777777777778,
              "#fb9f3a"
             ],
             [
              0.8888888888888888,
              "#fdca26"
             ],
             [
              1,
              "#f0f921"
             ]
            ],
            "type": "histogram2d"
           }
          ],
          "histogram2dcontour": [
           {
            "colorbar": {
             "outlinewidth": 0,
             "ticks": ""
            },
            "colorscale": [
             [
              0,
              "#0d0887"
             ],
             [
              0.1111111111111111,
              "#46039f"
             ],
             [
              0.2222222222222222,
              "#7201a8"
             ],
             [
              0.3333333333333333,
              "#9c179e"
             ],
             [
              0.4444444444444444,
              "#bd3786"
             ],
             [
              0.5555555555555556,
              "#d8576b"
             ],
             [
              0.6666666666666666,
              "#ed7953"
             ],
             [
              0.7777777777777778,
              "#fb9f3a"
             ],
             [
              0.8888888888888888,
              "#fdca26"
             ],
             [
              1,
              "#f0f921"
             ]
            ],
            "type": "histogram2dcontour"
           }
          ],
          "mesh3d": [
           {
            "colorbar": {
             "outlinewidth": 0,
             "ticks": ""
            },
            "type": "mesh3d"
           }
          ],
          "parcoords": [
           {
            "line": {
             "colorbar": {
              "outlinewidth": 0,
              "ticks": ""
             }
            },
            "type": "parcoords"
           }
          ],
          "pie": [
           {
            "automargin": true,
            "type": "pie"
           }
          ],
          "scatter": [
           {
            "fillpattern": {
             "fillmode": "overlay",
             "size": 10,
             "solidity": 0.2
            },
            "type": "scatter"
           }
          ],
          "scatter3d": [
           {
            "line": {
             "colorbar": {
              "outlinewidth": 0,
              "ticks": ""
             }
            },
            "marker": {
             "colorbar": {
              "outlinewidth": 0,
              "ticks": ""
             }
            },
            "type": "scatter3d"
           }
          ],
          "scattercarpet": [
           {
            "marker": {
             "colorbar": {
              "outlinewidth": 0,
              "ticks": ""
             }
            },
            "type": "scattercarpet"
           }
          ],
          "scattergeo": [
           {
            "marker": {
             "colorbar": {
              "outlinewidth": 0,
              "ticks": ""
             }
            },
            "type": "scattergeo"
           }
          ],
          "scattergl": [
           {
            "marker": {
             "colorbar": {
              "outlinewidth": 0,
              "ticks": ""
             }
            },
            "type": "scattergl"
           }
          ],
          "scattermap": [
           {
            "marker": {
             "colorbar": {
              "outlinewidth": 0,
              "ticks": ""
             }
            },
            "type": "scattermap"
           }
          ],
          "scattermapbox": [
           {
            "marker": {
             "colorbar": {
              "outlinewidth": 0,
              "ticks": ""
             }
            },
            "type": "scattermapbox"
           }
          ],
          "scatterpolar": [
           {
            "marker": {
             "colorbar": {
              "outlinewidth": 0,
              "ticks": ""
             }
            },
            "type": "scatterpolar"
           }
          ],
          "scatterpolargl": [
           {
            "marker": {
             "colorbar": {
              "outlinewidth": 0,
              "ticks": ""
             }
            },
            "type": "scatterpolargl"
           }
          ],
          "scatterternary": [
           {
            "marker": {
             "colorbar": {
              "outlinewidth": 0,
              "ticks": ""
             }
            },
            "type": "scatterternary"
           }
          ],
          "surface": [
           {
            "colorbar": {
             "outlinewidth": 0,
             "ticks": ""
            },
            "colorscale": [
             [
              0,
              "#0d0887"
             ],
             [
              0.1111111111111111,
              "#46039f"
             ],
             [
              0.2222222222222222,
              "#7201a8"
             ],
             [
              0.3333333333333333,
              "#9c179e"
             ],
             [
              0.4444444444444444,
              "#bd3786"
             ],
             [
              0.5555555555555556,
              "#d8576b"
             ],
             [
              0.6666666666666666,
              "#ed7953"
             ],
             [
              0.7777777777777778,
              "#fb9f3a"
             ],
             [
              0.8888888888888888,
              "#fdca26"
             ],
             [
              1,
              "#f0f921"
             ]
            ],
            "type": "surface"
           }
          ],
          "table": [
           {
            "cells": {
             "fill": {
              "color": "#EBF0F8"
             },
             "line": {
              "color": "white"
             }
            },
            "header": {
             "fill": {
              "color": "#C8D4E3"
             },
             "line": {
              "color": "white"
             }
            },
            "type": "table"
           }
          ]
         },
         "layout": {
          "annotationdefaults": {
           "arrowcolor": "#2a3f5f",
           "arrowhead": 0,
           "arrowwidth": 1
          },
          "autotypenumbers": "strict",
          "coloraxis": {
           "colorbar": {
            "outlinewidth": 0,
            "ticks": ""
           }
          },
          "colorscale": {
           "diverging": [
            [
             0,
             "#8e0152"
            ],
            [
             0.1,
             "#c51b7d"
            ],
            [
             0.2,
             "#de77ae"
            ],
            [
             0.3,
             "#f1b6da"
            ],
            [
             0.4,
             "#fde0ef"
            ],
            [
             0.5,
             "#f7f7f7"
            ],
            [
             0.6,
             "#e6f5d0"
            ],
            [
             0.7,
             "#b8e186"
            ],
            [
             0.8,
             "#7fbc41"
            ],
            [
             0.9,
             "#4d9221"
            ],
            [
             1,
             "#276419"
            ]
           ],
           "sequential": [
            [
             0,
             "#0d0887"
            ],
            [
             0.1111111111111111,
             "#46039f"
            ],
            [
             0.2222222222222222,
             "#7201a8"
            ],
            [
             0.3333333333333333,
             "#9c179e"
            ],
            [
             0.4444444444444444,
             "#bd3786"
            ],
            [
             0.5555555555555556,
             "#d8576b"
            ],
            [
             0.6666666666666666,
             "#ed7953"
            ],
            [
             0.7777777777777778,
             "#fb9f3a"
            ],
            [
             0.8888888888888888,
             "#fdca26"
            ],
            [
             1,
             "#f0f921"
            ]
           ],
           "sequentialminus": [
            [
             0,
             "#0d0887"
            ],
            [
             0.1111111111111111,
             "#46039f"
            ],
            [
             0.2222222222222222,
             "#7201a8"
            ],
            [
             0.3333333333333333,
             "#9c179e"
            ],
            [
             0.4444444444444444,
             "#bd3786"
            ],
            [
             0.5555555555555556,
             "#d8576b"
            ],
            [
             0.6666666666666666,
             "#ed7953"
            ],
            [
             0.7777777777777778,
             "#fb9f3a"
            ],
            [
             0.8888888888888888,
             "#fdca26"
            ],
            [
             1,
             "#f0f921"
            ]
           ]
          },
          "colorway": [
           "#636efa",
           "#EF553B",
           "#00cc96",
           "#ab63fa",
           "#FFA15A",
           "#19d3f3",
           "#FF6692",
           "#B6E880",
           "#FF97FF",
           "#FECB52"
          ],
          "font": {
           "color": "#2a3f5f"
          },
          "geo": {
           "bgcolor": "white",
           "lakecolor": "white",
           "landcolor": "#E5ECF6",
           "showlakes": true,
           "showland": true,
           "subunitcolor": "white"
          },
          "hoverlabel": {
           "align": "left"
          },
          "hovermode": "closest",
          "mapbox": {
           "style": "light"
          },
          "paper_bgcolor": "white",
          "plot_bgcolor": "#E5ECF6",
          "polar": {
           "angularaxis": {
            "gridcolor": "white",
            "linecolor": "white",
            "ticks": ""
           },
           "bgcolor": "#E5ECF6",
           "radialaxis": {
            "gridcolor": "white",
            "linecolor": "white",
            "ticks": ""
           }
          },
          "scene": {
           "xaxis": {
            "backgroundcolor": "#E5ECF6",
            "gridcolor": "white",
            "gridwidth": 2,
            "linecolor": "white",
            "showbackground": true,
            "ticks": "",
            "zerolinecolor": "white"
           },
           "yaxis": {
            "backgroundcolor": "#E5ECF6",
            "gridcolor": "white",
            "gridwidth": 2,
            "linecolor": "white",
            "showbackground": true,
            "ticks": "",
            "zerolinecolor": "white"
           },
           "zaxis": {
            "backgroundcolor": "#E5ECF6",
            "gridcolor": "white",
            "gridwidth": 2,
            "linecolor": "white",
            "showbackground": true,
            "ticks": "",
            "zerolinecolor": "white"
           }
          },
          "shapedefaults": {
           "line": {
            "color": "#2a3f5f"
           }
          },
          "ternary": {
           "aaxis": {
            "gridcolor": "white",
            "linecolor": "white",
            "ticks": ""
           },
           "baxis": {
            "gridcolor": "white",
            "linecolor": "white",
            "ticks": ""
           },
           "bgcolor": "#E5ECF6",
           "caxis": {
            "gridcolor": "white",
            "linecolor": "white",
            "ticks": ""
           }
          },
          "title": {
           "x": 0.05
          },
          "xaxis": {
           "automargin": true,
           "gridcolor": "white",
           "linecolor": "white",
           "ticks": "",
           "title": {
            "standoff": 15
           },
           "zerolinecolor": "white",
           "zerolinewidth": 2
          },
          "yaxis": {
           "automargin": true,
           "gridcolor": "white",
           "linecolor": "white",
           "ticks": "",
           "title": {
            "standoff": 15
           },
           "zerolinecolor": "white",
           "zerolinewidth": 2
          }
         }
        },
        "title": {
         "font": {
          "color": "gray",
          "family": "Arial, bold",
          "size": 24
         },
         "text": "Distribution of Operating Systems",
         "x": 0.5,
         "xanchor": "center",
         "y": 0.95,
         "yanchor": "top"
        },
        "width": 800
       }
      }
     },
     "metadata": {},
     "output_type": "display_data"
    },
    {
     "data": {
      "text/plain": [
       "<Figure size 1200x1000 with 0 Axes>"
      ]
     },
     "metadata": {},
     "output_type": "display_data"
    }
   ],
   "source": [
    "plt.figure(figsize=(12, 10))\n",
    "df_os = df['Operating System'].value_counts() \n",
    "\n",
    "fig = px.pie(\n",
    "    df_os,\n",
    "    names=df_os.index,\n",
    "    values=df_os.values,\n",
    "    title='Distribution of Operating Systems',\n",
    "    hole=0.3, \n",
    "    color_discrete_sequence=qualitative.Pastel, \n",
    "    labels={'value': 'Count', 'name': 'Operating System'},\n",
    ")\n",
    "\n",
    "fig.update_traces(\n",
    "    textinfo='percent+label',\n",
    "    textfont_size=14,\n",
    "    textfont_color='gray',\n",
    "    marker=dict(line=dict(color='#FFFFFF', width=2))\n",
    ")\n",
    "fig.update_layout(\n",
    "    title={\n",
    "        'text': 'Distribution of Operating Systems',\n",
    "        'y': 0.95,\n",
    "        'x': 0.5,\n",
    "        'xanchor': 'center',\n",
    "        'yanchor': 'top',\n",
    "        'font': dict(size=24, family='Arial, bold', color='gray')\n",
    "    },\n",
    "    showlegend=True,\n",
    "    legend=dict(\n",
    "        orientation=\"h\",\n",
    "        yanchor=\"bottom\",\n",
    "        y=1.02,\n",
    "        xanchor=\"center\",\n",
    "        x=0.5,\n",
    "        font=dict(color='gray')\n",
    "    ),\n",
    "    width=800,\n",
    "    height=600,\n",
    "    plot_bgcolor='rgba(0,0,0,0)',\n",
    "    paper_bgcolor='rgba(0,0,0,0)',\n",
    ")\n",
    "fig.show()\n"
   ]
  },
  {
   "cell_type": "markdown",
   "metadata": {
    "id": "BPMtULaaKD4w"
   },
   "source": [
    "<br>\n",
    "<br>\n",
    "<div dir=\"rtl\">\n",
    "    <p>\n",
    "        <font size=4>\n",
    "            <li>\n",
    "                میانگین قیمت لپتاپ ها را بر اساس GPU و RAM محاسبه کنید و به کمک نمودار Heatmap آنرا نمایش دهید و بررسی و آنالیز کنید.\n",
    "            </li>\n",
    "        </font>\n",
    "    </p>\n",
    "</div>\n",
    "<br>"
   ]
  },
  {
   "cell_type": "code",
   "execution_count": 24,
   "metadata": {
    "id": "mz-at41Y0XsA"
   },
   "outputs": [
    {
     "data": {
      "image/png": "[encoded data removed]",
      "text/plain": [
       "<Figure size 1000x500 with 2 Axes>"
      ]
     },
     "metadata": {},
     "output_type": "display_data"
    }
   ],
   "source": [
    "df_pivot3 = df.pivot_table(values='Price ($)',\n",
    "                           index='RAM (GB)',\n",
    "                           columns='GPU',\n",
    "                           aggfunc='mean')\n",
    "\n",
    "plt.figure(figsize=(10, 5))\n",
    "sns.heatmap(df_pivot3,\n",
    "            annot=True,\n",
    "            cmap='BuPu',\n",
    "            fmt='.0f',\n",
    "            linewidths=0.5)\n",
    "plt.title('Average Price by RAM and GPU')\n",
    "plt.show()\n"
   ]
  },
  {
   "cell_type": "code",
   "execution_count": 53,
   "metadata": {
    "id": "pRPeGwNsgaHL"
   },
   "outputs": [],
   "source": [
    "df_processed = df.copy()\n"
   ]
  },
  {
   "cell_type": "code",
   "execution_count": 52,
   "metadata": {
    "id": "_WyLX0_lgUnP"
   },
   "outputs": [],
   "source": [
    "import re\n"
   ]
  },
  {
   "cell_type": "code",
   "execution_count": 54,
   "metadata": {
    "id": "G_UV5NWBUc2I"
   },
   "outputs": [],
   "source": [
    "def parse_storage(storage_str):\n",
    "    match = re.match(r'(\\d+)([A-Z]+)\\s+(.*)', storage_str)\n",
    "    if match:\n",
    "        value = int(match.group(1))\n",
    "        unit = match.group(2)\n",
    "\n",
    "        type = match.group(3)\n",
    "        if unit == 'GB':\n",
    "            capacity_gb = value\n",
    "        elif unit == 'TB':\n",
    "            capacity_gb = value * 1000\n",
    "        else:\n",
    "            raise ValueError(f\"Unknown unit: {unit}\")\n",
    "        return capacity_gb, type\n",
    "    else:\n",
    "        raise ValueError(f\"Cannot parse storage: {storage_str}\")\n",
    "\n",
    "# Apply the function to the Storage column\n",
    "df_processed['Storage_Capacity_GB'], df_processed['Storage_Type'] = zip(*df['Storage'].apply(parse_storage))"
   ]
  },
  {
   "cell_type": "code",
   "execution_count": 57,
   "metadata": {},
   "outputs": [
    {
     "data": {
      "text/html": [
       "<div>\n",
       "<style scoped>\n",
       "    .dataframe tbody tr th:only-of-type {\n",
       "        vertical-align: middle;\n",
       "    }\n",
       "\n",
       "    .dataframe tbody tr th {\n",
       "        vertical-align: top;\n",
       "    }\n",
       "\n",
       "    .dataframe thead th {\n",
       "        text-align: right;\n",
       "    }\n",
       "</style>\n",
       "<table border=\"1\" class=\"dataframe\">\n",
       "  <thead>\n",
       "    <tr style=\"text-align: right;\">\n",
       "      <th></th>\n",
       "      <th>Brand</th>\n",
       "      <th>Processor</th>\n",
       "      <th>RAM (GB)</th>\n",
       "      <th>Storage</th>\n",
       "      <th>GPU</th>\n",
       "      <th>Screen Size (inch)</th>\n",
       "      <th>Resolution</th>\n",
       "      <th>Battery Life (hours)</th>\n",
       "      <th>Weight (kg)</th>\n",
       "      <th>Operating System</th>\n",
       "      <th>Price ($)</th>\n",
       "      <th>Storage_Capacity_GB</th>\n",
       "      <th>Storage_Type</th>\n",
       "    </tr>\n",
       "  </thead>\n",
       "  <tbody>\n",
       "    <tr>\n",
       "      <th>11748</th>\n",
       "      <td>MSI</td>\n",
       "      <td>AMD Ryzen 3</td>\n",
       "      <td>8</td>\n",
       "      <td>2TB SSD</td>\n",
       "      <td>AMD Radeon RX 6800</td>\n",
       "      <td>17.3</td>\n",
       "      <td>1920x1080</td>\n",
       "      <td>11.5</td>\n",
       "      <td>2.38</td>\n",
       "      <td>FreeDOS</td>\n",
       "      <td>1236.47</td>\n",
       "      <td>2000</td>\n",
       "      <td>SSD</td>\n",
       "    </tr>\n",
       "    <tr>\n",
       "      <th>11749</th>\n",
       "      <td>Lenovo</td>\n",
       "      <td>Intel i9</td>\n",
       "      <td>4</td>\n",
       "      <td>2TB SSD</td>\n",
       "      <td>Nvidia RTX 3080</td>\n",
       "      <td>15.6</td>\n",
       "      <td>2560x1440</td>\n",
       "      <td>11.1</td>\n",
       "      <td>2.59</td>\n",
       "      <td>Linux</td>\n",
       "      <td>1955.66</td>\n",
       "      <td>2000</td>\n",
       "      <td>SSD</td>\n",
       "    </tr>\n",
       "    <tr>\n",
       "      <th>11750</th>\n",
       "      <td>Acer</td>\n",
       "      <td>Intel i7</td>\n",
       "      <td>32</td>\n",
       "      <td>1TB SSD</td>\n",
       "      <td>AMD Radeon RX 6600</td>\n",
       "      <td>17.3</td>\n",
       "      <td>1920x1080</td>\n",
       "      <td>7.5</td>\n",
       "      <td>2.30</td>\n",
       "      <td>macOS</td>\n",
       "      <td>2174.34</td>\n",
       "      <td>1000</td>\n",
       "      <td>SSD</td>\n",
       "    </tr>\n",
       "    <tr>\n",
       "      <th>11751</th>\n",
       "      <td>Apple</td>\n",
       "      <td>Intel i7</td>\n",
       "      <td>4</td>\n",
       "      <td>2TB SSD</td>\n",
       "      <td>AMD Radeon RX 6600</td>\n",
       "      <td>16.0</td>\n",
       "      <td>1366x768</td>\n",
       "      <td>6.0</td>\n",
       "      <td>3.48</td>\n",
       "      <td>Linux</td>\n",
       "      <td>1504.18</td>\n",
       "      <td>2000</td>\n",
       "      <td>SSD</td>\n",
       "    </tr>\n",
       "    <tr>\n",
       "      <th>11752</th>\n",
       "      <td>Asus</td>\n",
       "      <td>AMD Ryzen 7</td>\n",
       "      <td>64</td>\n",
       "      <td>1TB SSD</td>\n",
       "      <td>Nvidia RTX 3080</td>\n",
       "      <td>13.3</td>\n",
       "      <td>1920x1080</td>\n",
       "      <td>6.2</td>\n",
       "      <td>1.96</td>\n",
       "      <td>macOS</td>\n",
       "      <td>2991.53</td>\n",
       "      <td>1000</td>\n",
       "      <td>SSD</td>\n",
       "    </tr>\n",
       "    <tr>\n",
       "      <th>11753</th>\n",
       "      <td>Dell</td>\n",
       "      <td>Intel i9</td>\n",
       "      <td>16</td>\n",
       "      <td>512GB SSD</td>\n",
       "      <td>Nvidia RTX 3060</td>\n",
       "      <td>14.0</td>\n",
       "      <td>3840x2160</td>\n",
       "      <td>10.0</td>\n",
       "      <td>2.24</td>\n",
       "      <td>FreeDOS</td>\n",
       "      <td>3392.12</td>\n",
       "      <td>512</td>\n",
       "      <td>SSD</td>\n",
       "    </tr>\n",
       "    <tr>\n",
       "      <th>11754</th>\n",
       "      <td>Acer</td>\n",
       "      <td>AMD Ryzen 5</td>\n",
       "      <td>4</td>\n",
       "      <td>512GB SSD</td>\n",
       "      <td>AMD Radeon RX 6800</td>\n",
       "      <td>13.3</td>\n",
       "      <td>2560x1440</td>\n",
       "      <td>10.8</td>\n",
       "      <td>2.84</td>\n",
       "      <td>macOS</td>\n",
       "      <td>1055.47</td>\n",
       "      <td>512</td>\n",
       "      <td>SSD</td>\n",
       "    </tr>\n",
       "    <tr>\n",
       "      <th>11755</th>\n",
       "      <td>Dell</td>\n",
       "      <td>Intel i5</td>\n",
       "      <td>8</td>\n",
       "      <td>256GB SSD</td>\n",
       "      <td>Nvidia RTX 2060</td>\n",
       "      <td>17.3</td>\n",
       "      <td>3840x2160</td>\n",
       "      <td>7.4</td>\n",
       "      <td>1.42</td>\n",
       "      <td>Linux</td>\n",
       "      <td>1886.79</td>\n",
       "      <td>256</td>\n",
       "      <td>SSD</td>\n",
       "    </tr>\n",
       "    <tr>\n",
       "      <th>11756</th>\n",
       "      <td>Lenovo</td>\n",
       "      <td>AMD Ryzen 3</td>\n",
       "      <td>32</td>\n",
       "      <td>1TB HDD</td>\n",
       "      <td>Nvidia RTX 3080</td>\n",
       "      <td>15.6</td>\n",
       "      <td>2560x1440</td>\n",
       "      <td>4.3</td>\n",
       "      <td>3.34</td>\n",
       "      <td>Linux</td>\n",
       "      <td>1515.35</td>\n",
       "      <td>1000</td>\n",
       "      <td>HDD</td>\n",
       "    </tr>\n",
       "    <tr>\n",
       "      <th>11757</th>\n",
       "      <td>Lenovo</td>\n",
       "      <td>Intel i7</td>\n",
       "      <td>32</td>\n",
       "      <td>1TB SSD</td>\n",
       "      <td>AMD Radeon RX 6800</td>\n",
       "      <td>14.0</td>\n",
       "      <td>1366x768</td>\n",
       "      <td>9.0</td>\n",
       "      <td>2.41</td>\n",
       "      <td>Linux</td>\n",
       "      <td>1714.02</td>\n",
       "      <td>1000</td>\n",
       "      <td>SSD</td>\n",
       "    </tr>\n",
       "    <tr>\n",
       "      <th>11758</th>\n",
       "      <td>Samsung</td>\n",
       "      <td>Intel i5</td>\n",
       "      <td>8</td>\n",
       "      <td>512GB SSD</td>\n",
       "      <td>Nvidia RTX 2060</td>\n",
       "      <td>14.0</td>\n",
       "      <td>1366x768</td>\n",
       "      <td>11.3</td>\n",
       "      <td>2.24</td>\n",
       "      <td>Linux</td>\n",
       "      <td>929.32</td>\n",
       "      <td>512</td>\n",
       "      <td>SSD</td>\n",
       "    </tr>\n",
       "    <tr>\n",
       "      <th>11759</th>\n",
       "      <td>Lenovo</td>\n",
       "      <td>AMD Ryzen 9</td>\n",
       "      <td>32</td>\n",
       "      <td>1TB SSD</td>\n",
       "      <td>Nvidia RTX 3060</td>\n",
       "      <td>16.0</td>\n",
       "      <td>2560x1440</td>\n",
       "      <td>7.1</td>\n",
       "      <td>2.98</td>\n",
       "      <td>macOS</td>\n",
       "      <td>3696.04</td>\n",
       "      <td>1000</td>\n",
       "      <td>SSD</td>\n",
       "    </tr>\n",
       "    <tr>\n",
       "      <th>11760</th>\n",
       "      <td>HP</td>\n",
       "      <td>AMD Ryzen 3</td>\n",
       "      <td>8</td>\n",
       "      <td>1TB SSD</td>\n",
       "      <td>AMD Radeon RX 6600</td>\n",
       "      <td>13.3</td>\n",
       "      <td>1920x1080</td>\n",
       "      <td>10.3</td>\n",
       "      <td>3.36</td>\n",
       "      <td>macOS</td>\n",
       "      <td>950.07</td>\n",
       "      <td>1000</td>\n",
       "      <td>SSD</td>\n",
       "    </tr>\n",
       "    <tr>\n",
       "      <th>11761</th>\n",
       "      <td>Dell</td>\n",
       "      <td>Intel i3</td>\n",
       "      <td>64</td>\n",
       "      <td>1TB SSD</td>\n",
       "      <td>AMD Radeon RX 6600</td>\n",
       "      <td>17.3</td>\n",
       "      <td>2560x1440</td>\n",
       "      <td>11.5</td>\n",
       "      <td>1.93</td>\n",
       "      <td>Windows</td>\n",
       "      <td>2683.44</td>\n",
       "      <td>1000</td>\n",
       "      <td>SSD</td>\n",
       "    </tr>\n",
       "    <tr>\n",
       "      <th>11762</th>\n",
       "      <td>Apple</td>\n",
       "      <td>AMD Ryzen 9</td>\n",
       "      <td>16</td>\n",
       "      <td>1TB HDD</td>\n",
       "      <td>AMD Radeon RX 6600</td>\n",
       "      <td>15.6</td>\n",
       "      <td>1920x1080</td>\n",
       "      <td>10.9</td>\n",
       "      <td>1.55</td>\n",
       "      <td>FreeDOS</td>\n",
       "      <td>2704.23</td>\n",
       "      <td>1000</td>\n",
       "      <td>HDD</td>\n",
       "    </tr>\n",
       "    <tr>\n",
       "      <th>11763</th>\n",
       "      <td>Acer</td>\n",
       "      <td>Intel i3</td>\n",
       "      <td>4</td>\n",
       "      <td>2TB SSD</td>\n",
       "      <td>Nvidia RTX 2060</td>\n",
       "      <td>17.3</td>\n",
       "      <td>1366x768</td>\n",
       "      <td>11.5</td>\n",
       "      <td>1.58</td>\n",
       "      <td>macOS</td>\n",
       "      <td>704.82</td>\n",
       "      <td>2000</td>\n",
       "      <td>SSD</td>\n",
       "    </tr>\n",
       "    <tr>\n",
       "      <th>11764</th>\n",
       "      <td>Asus</td>\n",
       "      <td>Intel i3</td>\n",
       "      <td>4</td>\n",
       "      <td>2TB SSD</td>\n",
       "      <td>AMD Radeon RX 6800</td>\n",
       "      <td>16.0</td>\n",
       "      <td>1366x768</td>\n",
       "      <td>9.5</td>\n",
       "      <td>2.14</td>\n",
       "      <td>Linux</td>\n",
       "      <td>775.59</td>\n",
       "      <td>2000</td>\n",
       "      <td>SSD</td>\n",
       "    </tr>\n",
       "    <tr>\n",
       "      <th>11765</th>\n",
       "      <td>Razer</td>\n",
       "      <td>AMD Ryzen 9</td>\n",
       "      <td>4</td>\n",
       "      <td>2TB SSD</td>\n",
       "      <td>AMD Radeon RX 6600</td>\n",
       "      <td>15.6</td>\n",
       "      <td>2560x1440</td>\n",
       "      <td>8.2</td>\n",
       "      <td>2.05</td>\n",
       "      <td>Linux</td>\n",
       "      <td>2789.46</td>\n",
       "      <td>2000</td>\n",
       "      <td>SSD</td>\n",
       "    </tr>\n",
       "    <tr>\n",
       "      <th>11766</th>\n",
       "      <td>Samsung</td>\n",
       "      <td>AMD Ryzen 7</td>\n",
       "      <td>16</td>\n",
       "      <td>512GB SSD</td>\n",
       "      <td>Integrated</td>\n",
       "      <td>13.3</td>\n",
       "      <td>1920x1080</td>\n",
       "      <td>7.5</td>\n",
       "      <td>1.48</td>\n",
       "      <td>macOS</td>\n",
       "      <td>1067.13</td>\n",
       "      <td>512</td>\n",
       "      <td>SSD</td>\n",
       "    </tr>\n",
       "    <tr>\n",
       "      <th>11767</th>\n",
       "      <td>Samsung</td>\n",
       "      <td>Intel i7</td>\n",
       "      <td>8</td>\n",
       "      <td>256GB SSD</td>\n",
       "      <td>Nvidia RTX 3080</td>\n",
       "      <td>17.3</td>\n",
       "      <td>2560x1440</td>\n",
       "      <td>6.4</td>\n",
       "      <td>2.45</td>\n",
       "      <td>FreeDOS</td>\n",
       "      <td>1579.55</td>\n",
       "      <td>256</td>\n",
       "      <td>SSD</td>\n",
       "    </tr>\n",
       "  </tbody>\n",
       "</table>\n",
       "</div>"
      ],
      "text/plain": [
       "         Brand    Processor  RAM (GB)    Storage                 GPU  \\\n",
       "11748      MSI  AMD Ryzen 3         8    2TB SSD  AMD Radeon RX 6800   \n",
       "11749   Lenovo     Intel i9         4    2TB SSD     Nvidia RTX 3080   \n",
       "11750     Acer     Intel i7        32    1TB SSD  AMD Radeon RX 6600   \n",
       "11751    Apple     Intel i7         4    2TB SSD  AMD Radeon RX 6600   \n",
       "11752     Asus  AMD Ryzen 7        64    1TB SSD     Nvidia RTX 3080   \n",
       "11753     Dell     Intel i9        16  512GB SSD     Nvidia RTX 3060   \n",
       "11754     Acer  AMD Ryzen 5         4  512GB SSD  AMD Radeon RX 6800   \n",
       "11755     Dell     Intel i5         8  256GB SSD     Nvidia RTX 2060   \n",
       "11756   Lenovo  AMD Ryzen 3        32    1TB HDD     Nvidia RTX 3080   \n",
       "11757   Lenovo     Intel i7        32    1TB SSD  AMD Radeon RX 6800   \n",
       "11758  Samsung     Intel i5         8  512GB SSD     Nvidia RTX 2060   \n",
       "11759   Lenovo  AMD Ryzen 9        32    1TB SSD     Nvidia RTX 3060   \n",
       "11760       HP  AMD Ryzen 3         8    1TB SSD  AMD Radeon RX 6600   \n",
       "11761     Dell     Intel i3        64    1TB SSD  AMD Radeon RX 6600   \n",
       "11762    Apple  AMD Ryzen 9        16    1TB HDD  AMD Radeon RX 6600   \n",
       "11763     Acer     Intel i3         4    2TB SSD     Nvidia RTX 2060   \n",
       "11764     Asus     Intel i3         4    2TB SSD  AMD Radeon RX 6800   \n",
       "11765    Razer  AMD Ryzen 9         4    2TB SSD  AMD Radeon RX 6600   \n",
       "11766  Samsung  AMD Ryzen 7        16  512GB SSD          Integrated   \n",
       "11767  Samsung     Intel i7         8  256GB SSD     Nvidia RTX 3080   \n",
       "\n",
       "       Screen Size (inch) Resolution  Battery Life (hours)  Weight (kg)  \\\n",
       "11748                17.3  1920x1080                  11.5         2.38   \n",
       "11749                15.6  2560x1440                  11.1         2.59   \n",
       "11750                17.3  1920x1080                   7.5         2.30   \n",
       "11751                16.0   1366x768                   6.0         3.48   \n",
       "11752                13.3  1920x1080                   6.2         1.96   \n",
       "11753                14.0  3840x2160                  10.0         2.24   \n",
       "11754                13.3  2560x1440                  10.8         2.84   \n",
       "11755                17.3  3840x2160                   7.4         1.42   \n",
       "11756                15.6  2560x1440                   4.3         3.34   \n",
       "11757                14.0   1366x768                   9.0         2.41   \n",
       "11758                14.0   1366x768                  11.3         2.24   \n",
       "11759                16.0  2560x1440                   7.1         2.98   \n",
       "11760                13.3  1920x1080                  10.3         3.36   \n",
       "11761                17.3  2560x1440                  11.5         1.93   \n",
       "11762                15.6  1920x1080                  10.9         1.55   \n",
       "11763                17.3   1366x768                  11.5         1.58   \n",
       "11764                16.0   1366x768                   9.5         2.14   \n",
       "11765                15.6  2560x1440                   8.2         2.05   \n",
       "11766                13.3  1920x1080                   7.5         1.48   \n",
       "11767                17.3  2560x1440                   6.4         2.45   \n",
       "\n",
       "      Operating System  Price ($)  Storage_Capacity_GB Storage_Type  \n",
       "11748          FreeDOS    1236.47                 2000          SSD  \n",
       "11749            Linux    1955.66                 2000          SSD  \n",
       "11750            macOS    2174.34                 1000          SSD  \n",
       "11751            Linux    1504.18                 2000          SSD  \n",
       "11752            macOS    2991.53                 1000          SSD  \n",
       "11753          FreeDOS    3392.12                  512          SSD  \n",
       "11754            macOS    1055.47                  512          SSD  \n",
       "11755            Linux    1886.79                  256          SSD  \n",
       "11756            Linux    1515.35                 1000          HDD  \n",
       "11757            Linux    1714.02                 1000          SSD  \n",
       "11758            Linux     929.32                  512          SSD  \n",
       "11759            macOS    3696.04                 1000          SSD  \n",
       "11760            macOS     950.07                 1000          SSD  \n",
       "11761          Windows    2683.44                 1000          SSD  \n",
       "11762          FreeDOS    2704.23                 1000          HDD  \n",
       "11763            macOS     704.82                 2000          SSD  \n",
       "11764            Linux     775.59                 2000          SSD  \n",
       "11765            Linux    2789.46                 2000          SSD  \n",
       "11766            macOS    1067.13                  512          SSD  \n",
       "11767          FreeDOS    1579.55                  256          SSD  "
      ]
     },
     "execution_count": 57,
     "metadata": {},
     "output_type": "execute_result"
    }
   ],
   "source": [
    "df_processed.tail(20)"
   ]
  },
  {
   "cell_type": "markdown",
   "metadata": {
    "id": "iiv9rS9wjPIF"
   },
   "source": [
    "<br>\n",
    "<br>\n",
    "<div dir=\"rtl\">\n",
    "    <font size=4>\n",
    "        <li>پردازش Resolution</li>\n",
    "    </font>\n",
    "    <font size=4>\n",
    "        <li>\n",
    "            یک ویژگی عددی جدید \"Resolution_Pixels\" ایجاد کنید\n",
    "        </li>\n",
    "        <li>\n",
    "            <font size=3 color=\"red\"> راهنمایی: </font>رزولوشن را به دو مقدار جداگانه تبدیل کنید و از آن برای استخراج یک ویژگی عددی که میزان کلی پیکسل‌ها را نشان می‌دهد، استفاده کنید.\n",
    "        </li>\n",
    "    </font>\n",
    "</div>\n",
    "<br>"
   ]
  },
  {
   "cell_type": "code",
   "execution_count": 58,
   "metadata": {
    "id": "ez0jUsheUgUt"
   },
   "outputs": [],
   "source": [
    "def parse_resolution(resolution_str):\n",
    "    width, height = map(int, resolution_str.split('x'))\n",
    "    return width * height\n",
    "\n",
    "df_processed['Resolution_Pixels'] = df['Resolution'].apply(parse_resolution)\n"
   ]
  },
  {
   "cell_type": "code",
   "execution_count": 59,
   "metadata": {},
   "outputs": [
    {
     "data": {
      "text/html": [
       "<div>\n",
       "<style scoped>\n",
       "    .dataframe tbody tr th:only-of-type {\n",
       "        vertical-align: middle;\n",
       "    }\n",
       "\n",
       "    .dataframe tbody tr th {\n",
       "        vertical-align: top;\n",
       "    }\n",
       "\n",
       "    .dataframe thead th {\n",
       "        text-align: right;\n",
       "    }\n",
       "</style>\n",
       "<table border=\"1\" class=\"dataframe\">\n",
       "  <thead>\n",
       "    <tr style=\"text-align: right;\">\n",
       "      <th></th>\n",
       "      <th>Brand</th>\n",
       "      <th>Processor</th>\n",
       "      <th>RAM (GB)</th>\n",
       "      <th>Storage</th>\n",
       "      <th>GPU</th>\n",
       "      <th>Screen Size (inch)</th>\n",
       "      <th>Resolution</th>\n",
       "      <th>Battery Life (hours)</th>\n",
       "      <th>Weight (kg)</th>\n",
       "      <th>Operating System</th>\n",
       "      <th>Price ($)</th>\n",
       "      <th>Storage_Capacity_GB</th>\n",
       "      <th>Storage_Type</th>\n",
       "      <th>Resolution_Pixels</th>\n",
       "    </tr>\n",
       "  </thead>\n",
       "  <tbody>\n",
       "    <tr>\n",
       "      <th>11748</th>\n",
       "      <td>MSI</td>\n",
       "      <td>AMD Ryzen 3</td>\n",
       "      <td>8</td>\n",
       "      <td>2TB SSD</td>\n",
       "      <td>AMD Radeon RX 6800</td>\n",
       "      <td>17.3</td>\n",
       "      <td>1920x1080</td>\n",
       "      <td>11.5</td>\n",
       "      <td>2.38</td>\n",
       "      <td>FreeDOS</td>\n",
       "      <td>1236.47</td>\n",
       "      <td>2000</td>\n",
       "      <td>SSD</td>\n",
       "      <td>2073600</td>\n",
       "    </tr>\n",
       "    <tr>\n",
       "      <th>11749</th>\n",
       "      <td>Lenovo</td>\n",
       "      <td>Intel i9</td>\n",
       "      <td>4</td>\n",
       "      <td>2TB SSD</td>\n",
       "      <td>Nvidia RTX 3080</td>\n",
       "      <td>15.6</td>\n",
       "      <td>2560x1440</td>\n",
       "      <td>11.1</td>\n",
       "      <td>2.59</td>\n",
       "      <td>Linux</td>\n",
       "      <td>1955.66</td>\n",
       "      <td>2000</td>\n",
       "      <td>SSD</td>\n",
       "      <td>3686400</td>\n",
       "    </tr>\n",
       "    <tr>\n",
       "      <th>11750</th>\n",
       "      <td>Acer</td>\n",
       "      <td>Intel i7</td>\n",
       "      <td>32</td>\n",
       "      <td>1TB SSD</td>\n",
       "      <td>AMD Radeon RX 6600</td>\n",
       "      <td>17.3</td>\n",
       "      <td>1920x1080</td>\n",
       "      <td>7.5</td>\n",
       "      <td>2.30</td>\n",
       "      <td>macOS</td>\n",
       "      <td>2174.34</td>\n",
       "      <td>1000</td>\n",
       "      <td>SSD</td>\n",
       "      <td>2073600</td>\n",
       "    </tr>\n",
       "    <tr>\n",
       "      <th>11751</th>\n",
       "      <td>Apple</td>\n",
       "      <td>Intel i7</td>\n",
       "      <td>4</td>\n",
       "      <td>2TB SSD</td>\n",
       "      <td>AMD Radeon RX 6600</td>\n",
       "      <td>16.0</td>\n",
       "      <td>1366x768</td>\n",
       "      <td>6.0</td>\n",
       "      <td>3.48</td>\n",
       "      <td>Linux</td>\n",
       "      <td>1504.18</td>\n",
       "      <td>2000</td>\n",
       "      <td>SSD</td>\n",
       "      <td>1049088</td>\n",
       "    </tr>\n",
       "    <tr>\n",
       "      <th>11752</th>\n",
       "      <td>Asus</td>\n",
       "      <td>AMD Ryzen 7</td>\n",
       "      <td>64</td>\n",
       "      <td>1TB SSD</td>\n",
       "      <td>Nvidia RTX 3080</td>\n",
       "      <td>13.3</td>\n",
       "      <td>1920x1080</td>\n",
       "      <td>6.2</td>\n",
       "      <td>1.96</td>\n",
       "      <td>macOS</td>\n",
       "      <td>2991.53</td>\n",
       "      <td>1000</td>\n",
       "      <td>SSD</td>\n",
       "      <td>2073600</td>\n",
       "    </tr>\n",
       "    <tr>\n",
       "      <th>11753</th>\n",
       "      <td>Dell</td>\n",
       "      <td>Intel i9</td>\n",
       "      <td>16</td>\n",
       "      <td>512GB SSD</td>\n",
       "      <td>Nvidia RTX 3060</td>\n",
       "      <td>14.0</td>\n",
       "      <td>3840x2160</td>\n",
       "      <td>10.0</td>\n",
       "      <td>2.24</td>\n",
       "      <td>FreeDOS</td>\n",
       "      <td>3392.12</td>\n",
       "      <td>512</td>\n",
       "      <td>SSD</td>\n",
       "      <td>8294400</td>\n",
       "    </tr>\n",
       "    <tr>\n",
       "      <th>11754</th>\n",
       "      <td>Acer</td>\n",
       "      <td>AMD Ryzen 5</td>\n",
       "      <td>4</td>\n",
       "      <td>512GB SSD</td>\n",
       "      <td>AMD Radeon RX 6800</td>\n",
       "      <td>13.3</td>\n",
       "      <td>2560x1440</td>\n",
       "      <td>10.8</td>\n",
       "      <td>2.84</td>\n",
       "      <td>macOS</td>\n",
       "      <td>1055.47</td>\n",
       "      <td>512</td>\n",
       "      <td>SSD</td>\n",
       "      <td>3686400</td>\n",
       "    </tr>\n",
       "    <tr>\n",
       "      <th>11755</th>\n",
       "      <td>Dell</td>\n",
       "      <td>Intel i5</td>\n",
       "      <td>8</td>\n",
       "      <td>256GB SSD</td>\n",
       "      <td>Nvidia RTX 2060</td>\n",
       "      <td>17.3</td>\n",
       "      <td>3840x2160</td>\n",
       "      <td>7.4</td>\n",
       "      <td>1.42</td>\n",
       "      <td>Linux</td>\n",
       "      <td>1886.79</td>\n",
       "      <td>256</td>\n",
       "      <td>SSD</td>\n",
       "      <td>8294400</td>\n",
       "    </tr>\n",
       "    <tr>\n",
       "      <th>11756</th>\n",
       "      <td>Lenovo</td>\n",
       "      <td>AMD Ryzen 3</td>\n",
       "      <td>32</td>\n",
       "      <td>1TB HDD</td>\n",
       "      <td>Nvidia RTX 3080</td>\n",
       "      <td>15.6</td>\n",
       "      <td>2560x1440</td>\n",
       "      <td>4.3</td>\n",
       "      <td>3.34</td>\n",
       "      <td>Linux</td>\n",
       "      <td>1515.35</td>\n",
       "      <td>1000</td>\n",
       "      <td>HDD</td>\n",
       "      <td>3686400</td>\n",
       "    </tr>\n",
       "    <tr>\n",
       "      <th>11757</th>\n",
       "      <td>Lenovo</td>\n",
       "      <td>Intel i7</td>\n",
       "      <td>32</td>\n",
       "      <td>1TB SSD</td>\n",
       "      <td>AMD Radeon RX 6800</td>\n",
       "      <td>14.0</td>\n",
       "      <td>1366x768</td>\n",
       "      <td>9.0</td>\n",
       "      <td>2.41</td>\n",
       "      <td>Linux</td>\n",
       "      <td>1714.02</td>\n",
       "      <td>1000</td>\n",
       "      <td>SSD</td>\n",
       "      <td>1049088</td>\n",
       "    </tr>\n",
       "    <tr>\n",
       "      <th>11758</th>\n",
       "      <td>Samsung</td>\n",
       "      <td>Intel i5</td>\n",
       "      <td>8</td>\n",
       "      <td>512GB SSD</td>\n",
       "      <td>Nvidia RTX 2060</td>\n",
       "      <td>14.0</td>\n",
       "      <td>1366x768</td>\n",
       "      <td>11.3</td>\n",
       "      <td>2.24</td>\n",
       "      <td>Linux</td>\n",
       "      <td>929.32</td>\n",
       "      <td>512</td>\n",
       "      <td>SSD</td>\n",
       "      <td>1049088</td>\n",
       "    </tr>\n",
       "    <tr>\n",
       "      <th>11759</th>\n",
       "      <td>Lenovo</td>\n",
       "      <td>AMD Ryzen 9</td>\n",
       "      <td>32</td>\n",
       "      <td>1TB SSD</td>\n",
       "      <td>Nvidia RTX 3060</td>\n",
       "      <td>16.0</td>\n",
       "      <td>2560x1440</td>\n",
       "      <td>7.1</td>\n",
       "      <td>2.98</td>\n",
       "      <td>macOS</td>\n",
       "      <td>3696.04</td>\n",
       "      <td>1000</td>\n",
       "      <td>SSD</td>\n",
       "      <td>3686400</td>\n",
       "    </tr>\n",
       "    <tr>\n",
       "      <th>11760</th>\n",
       "      <td>HP</td>\n",
       "      <td>AMD Ryzen 3</td>\n",
       "      <td>8</td>\n",
       "      <td>1TB SSD</td>\n",
       "      <td>AMD Radeon RX 6600</td>\n",
       "      <td>13.3</td>\n",
       "      <td>1920x1080</td>\n",
       "      <td>10.3</td>\n",
       "      <td>3.36</td>\n",
       "      <td>macOS</td>\n",
       "      <td>950.07</td>\n",
       "      <td>1000</td>\n",
       "      <td>SSD</td>\n",
       "      <td>2073600</td>\n",
       "    </tr>\n",
       "    <tr>\n",
       "      <th>11761</th>\n",
       "      <td>Dell</td>\n",
       "      <td>Intel i3</td>\n",
       "      <td>64</td>\n",
       "      <td>1TB SSD</td>\n",
       "      <td>AMD Radeon RX 6600</td>\n",
       "      <td>17.3</td>\n",
       "      <td>2560x1440</td>\n",
       "      <td>11.5</td>\n",
       "      <td>1.93</td>\n",
       "      <td>Windows</td>\n",
       "      <td>2683.44</td>\n",
       "      <td>1000</td>\n",
       "      <td>SSD</td>\n",
       "      <td>3686400</td>\n",
       "    </tr>\n",
       "    <tr>\n",
       "      <th>11762</th>\n",
       "      <td>Apple</td>\n",
       "      <td>AMD Ryzen 9</td>\n",
       "      <td>16</td>\n",
       "      <td>1TB HDD</td>\n",
       "      <td>AMD Radeon RX 6600</td>\n",
       "      <td>15.6</td>\n",
       "      <td>1920x1080</td>\n",
       "      <td>10.9</td>\n",
       "      <td>1.55</td>\n",
       "      <td>FreeDOS</td>\n",
       "      <td>2704.23</td>\n",
       "      <td>1000</td>\n",
       "      <td>HDD</td>\n",
       "      <td>2073600</td>\n",
       "    </tr>\n",
       "    <tr>\n",
       "      <th>11763</th>\n",
       "      <td>Acer</td>\n",
       "      <td>Intel i3</td>\n",
       "      <td>4</td>\n",
       "      <td>2TB SSD</td>\n",
       "      <td>Nvidia RTX 2060</td>\n",
       "      <td>17.3</td>\n",
       "      <td>1366x768</td>\n",
       "      <td>11.5</td>\n",
       "      <td>1.58</td>\n",
       "      <td>macOS</td>\n",
       "      <td>704.82</td>\n",
       "      <td>2000</td>\n",
       "      <td>SSD</td>\n",
       "      <td>1049088</td>\n",
       "    </tr>\n",
       "    <tr>\n",
       "      <th>11764</th>\n",
       "      <td>Asus</td>\n",
       "      <td>Intel i3</td>\n",
       "      <td>4</td>\n",
       "      <td>2TB SSD</td>\n",
       "      <td>AMD Radeon RX 6800</td>\n",
       "      <td>16.0</td>\n",
       "      <td>1366x768</td>\n",
       "      <td>9.5</td>\n",
       "      <td>2.14</td>\n",
       "      <td>Linux</td>\n",
       "      <td>775.59</td>\n",
       "      <td>2000</td>\n",
       "      <td>SSD</td>\n",
       "      <td>1049088</td>\n",
       "    </tr>\n",
       "    <tr>\n",
       "      <th>11765</th>\n",
       "      <td>Razer</td>\n",
       "      <td>AMD Ryzen 9</td>\n",
       "      <td>4</td>\n",
       "      <td>2TB SSD</td>\n",
       "      <td>AMD Radeon RX 6600</td>\n",
       "      <td>15.6</td>\n",
       "      <td>2560x1440</td>\n",
       "      <td>8.2</td>\n",
       "      <td>2.05</td>\n",
       "      <td>Linux</td>\n",
       "      <td>2789.46</td>\n",
       "      <td>2000</td>\n",
       "      <td>SSD</td>\n",
       "      <td>3686400</td>\n",
       "    </tr>\n",
       "    <tr>\n",
       "      <th>11766</th>\n",
       "      <td>Samsung</td>\n",
       "      <td>AMD Ryzen 7</td>\n",
       "      <td>16</td>\n",
       "      <td>512GB SSD</td>\n",
       "      <td>Integrated</td>\n",
       "      <td>13.3</td>\n",
       "      <td>1920x1080</td>\n",
       "      <td>7.5</td>\n",
       "      <td>1.48</td>\n",
       "      <td>macOS</td>\n",
       "      <td>1067.13</td>\n",
       "      <td>512</td>\n",
       "      <td>SSD</td>\n",
       "      <td>2073600</td>\n",
       "    </tr>\n",
       "    <tr>\n",
       "      <th>11767</th>\n",
       "      <td>Samsung</td>\n",
       "      <td>Intel i7</td>\n",
       "      <td>8</td>\n",
       "      <td>256GB SSD</td>\n",
       "      <td>Nvidia RTX 3080</td>\n",
       "      <td>17.3</td>\n",
       "      <td>2560x1440</td>\n",
       "      <td>6.4</td>\n",
       "      <td>2.45</td>\n",
       "      <td>FreeDOS</td>\n",
       "      <td>1579.55</td>\n",
       "      <td>256</td>\n",
       "      <td>SSD</td>\n",
       "      <td>3686400</td>\n",
       "    </tr>\n",
       "  </tbody>\n",
       "</table>\n",
       "</div>"
      ],
      "text/plain": [
       "         Brand    Processor  RAM (GB)    Storage                 GPU  \\\n",
       "11748      MSI  AMD Ryzen 3         8    2TB SSD  AMD Radeon RX 6800   \n",
       "11749   Lenovo     Intel i9         4    2TB SSD     Nvidia RTX 3080   \n",
       "11750     Acer     Intel i7        32    1TB SSD  AMD Radeon RX 6600   \n",
       "11751    Apple     Intel i7         4    2TB SSD  AMD Radeon RX 6600   \n",
       "11752     Asus  AMD Ryzen 7        64    1TB SSD     Nvidia RTX 3080   \n",
       "11753     Dell     Intel i9        16  512GB SSD     Nvidia RTX 3060   \n",
       "11754     Acer  AMD Ryzen 5         4  512GB SSD  AMD Radeon RX 6800   \n",
       "11755     Dell     Intel i5         8  256GB SSD     Nvidia RTX 2060   \n",
       "11756   Lenovo  AMD Ryzen 3        32    1TB HDD     Nvidia RTX 3080   \n",
       "11757   Lenovo     Intel i7        32    1TB SSD  AMD Radeon RX 6800   \n",
       "11758  Samsung     Intel i5         8  512GB SSD     Nvidia RTX 2060   \n",
       "11759   Lenovo  AMD Ryzen 9        32    1TB SSD     Nvidia RTX 3060   \n",
       "11760       HP  AMD Ryzen 3         8    1TB SSD  AMD Radeon RX 6600   \n",
       "11761     Dell     Intel i3        64    1TB SSD  AMD Radeon RX 6600   \n",
       "11762    Apple  AMD Ryzen 9        16    1TB HDD  AMD Radeon RX 6600   \n",
       "11763     Acer     Intel i3         4    2TB SSD     Nvidia RTX 2060   \n",
       "11764     Asus     Intel i3         4    2TB SSD  AMD Radeon RX 6800   \n",
       "11765    Razer  AMD Ryzen 9         4    2TB SSD  AMD Radeon RX 6600   \n",
       "11766  Samsung  AMD Ryzen 7        16  512GB SSD          Integrated   \n",
       "11767  Samsung     Intel i7         8  256GB SSD     Nvidia RTX 3080   \n",
       "\n",
       "       Screen Size (inch) Resolution  Battery Life (hours)  Weight (kg)  \\\n",
       "11748                17.3  1920x1080                  11.5         2.38   \n",
       "11749                15.6  2560x1440                  11.1         2.59   \n",
       "11750                17.3  1920x1080                   7.5         2.30   \n",
       "11751                16.0   1366x768                   6.0         3.48   \n",
       "11752                13.3  1920x1080                   6.2         1.96   \n",
       "11753                14.0  3840x2160                  10.0         2.24   \n",
       "11754                13.3  2560x1440                  10.8         2.84   \n",
       "11755                17.3  3840x2160                   7.4         1.42   \n",
       "11756                15.6  2560x1440                   4.3         3.34   \n",
       "11757                14.0   1366x768                   9.0         2.41   \n",
       "11758                14.0   1366x768                  11.3         2.24   \n",
       "11759                16.0  2560x1440                   7.1         2.98   \n",
       "11760                13.3  1920x1080                  10.3         3.36   \n",
       "11761                17.3  2560x1440                  11.5         1.93   \n",
       "11762                15.6  1920x1080                  10.9         1.55   \n",
       "11763                17.3   1366x768                  11.5         1.58   \n",
       "11764                16.0   1366x768                   9.5         2.14   \n",
       "11765                15.6  2560x1440                   8.2         2.05   \n",
       "11766                13.3  1920x1080                   7.5         1.48   \n",
       "11767                17.3  2560x1440                   6.4         2.45   \n",
       "\n",
       "      Operating System  Price ($)  Storage_Capacity_GB Storage_Type  \\\n",
       "11748          FreeDOS    1236.47                 2000          SSD   \n",
       "11749            Linux    1955.66                 2000          SSD   \n",
       "11750            macOS    2174.34                 1000          SSD   \n",
       "11751            Linux    1504.18                 2000          SSD   \n",
       "11752            macOS    2991.53                 1000          SSD   \n",
       "11753          FreeDOS    3392.12                  512          SSD   \n",
       "11754            macOS    1055.47                  512          SSD   \n",
       "11755            Linux    1886.79                  256          SSD   \n",
       "11756            Linux    1515.35                 1000          HDD   \n",
       "11757            Linux    1714.02                 1000          SSD   \n",
       "11758            Linux     929.32                  512          SSD   \n",
       "11759            macOS    3696.04                 1000          SSD   \n",
       "11760            macOS     950.07                 1000          SSD   \n",
       "11761          Windows    2683.44                 1000          SSD   \n",
       "11762          FreeDOS    2704.23                 1000          HDD   \n",
       "11763            macOS     704.82                 2000          SSD   \n",
       "11764            Linux     775.59                 2000          SSD   \n",
       "11765            Linux    2789.46                 2000          SSD   \n",
       "11766            macOS    1067.13                  512          SSD   \n",
       "11767          FreeDOS    1579.55                  256          SSD   \n",
       "\n",
       "       Resolution_Pixels  \n",
       "11748            2073600  \n",
       "11749            3686400  \n",
       "11750            2073600  \n",
       "11751            1049088  \n",
       "11752            2073600  \n",
       "11753            8294400  \n",
       "11754            3686400  \n",
       "11755            8294400  \n",
       "11756            3686400  \n",
       "11757            1049088  \n",
       "11758            1049088  \n",
       "11759            3686400  \n",
       "11760            2073600  \n",
       "11761            3686400  \n",
       "11762            2073600  \n",
       "11763            1049088  \n",
       "11764            1049088  \n",
       "11765            3686400  \n",
       "11766            2073600  \n",
       "11767            3686400  "
      ]
     },
     "execution_count": 59,
     "metadata": {},
     "output_type": "execute_result"
    }
   ],
   "source": [
    "df_processed.tail(20)"
   ]
  },
  {
   "cell_type": "code",
   "execution_count": null,
   "metadata": {
    "id": "LOnm4JcD-x0B"
   },
   "outputs": [],
   "source": [
    "def split_brand_model(df, column_name):\n",
    "    df[f\"{column_name}_Brand\"] = df[column_name].apply(lambda x: x.split()[0] if pd.notna(x) else None)\n",
    "    df[f\"{column_name}_Model\"] = df[column_name].apply(lambda x: \" \".join(x.split()[1:]) if pd.notna(x) else None)\n",
    "    return df"
   ]
  },
  {
   "cell_type": "code",
   "execution_count": 61,
   "metadata": {
    "id": "8Ntmgc9y-xxO"
   },
   "outputs": [],
   "source": [
    "df_processed = split_brand_model(df_processed, \"GPU\")\n",
    "df_processed = split_brand_model(df_processed, \"Processor\")"
   ]
  },
  {
   "cell_type": "code",
   "execution_count": 63,
   "metadata": {},
   "outputs": [
    {
     "data": {
      "text/html": [
       "<div>\n",
       "<style scoped>\n",
       "    .dataframe tbody tr th:only-of-type {\n",
       "        vertical-align: middle;\n",
       "    }\n",
       "\n",
       "    .dataframe tbody tr th {\n",
       "        vertical-align: top;\n",
       "    }\n",
       "\n",
       "    .dataframe thead th {\n",
       "        text-align: right;\n",
       "    }\n",
       "</style>\n",
       "<table border=\"1\" class=\"dataframe\">\n",
       "  <thead>\n",
       "    <tr style=\"text-align: right;\">\n",
       "      <th></th>\n",
       "      <th>Brand</th>\n",
       "      <th>Processor</th>\n",
       "      <th>RAM (GB)</th>\n",
       "      <th>Storage</th>\n",
       "      <th>GPU</th>\n",
       "      <th>Screen Size (inch)</th>\n",
       "      <th>Resolution</th>\n",
       "      <th>Battery Life (hours)</th>\n",
       "      <th>Weight (kg)</th>\n",
       "      <th>Operating System</th>\n",
       "      <th>Price ($)</th>\n",
       "      <th>Storage_Capacity_GB</th>\n",
       "      <th>Storage_Type</th>\n",
       "      <th>Resolution_Pixels</th>\n",
       "      <th>GPU_Brand</th>\n",
       "      <th>GPU_Model</th>\n",
       "      <th>Processor_Brand</th>\n",
       "      <th>Processor_Model</th>\n",
       "    </tr>\n",
       "  </thead>\n",
       "  <tbody>\n",
       "    <tr>\n",
       "      <th>11763</th>\n",
       "      <td>Acer</td>\n",
       "      <td>Intel i3</td>\n",
       "      <td>4</td>\n",
       "      <td>2TB SSD</td>\n",
       "      <td>Nvidia RTX 2060</td>\n",
       "      <td>17.3</td>\n",
       "      <td>1366x768</td>\n",
       "      <td>11.5</td>\n",
       "      <td>1.58</td>\n",
       "      <td>macOS</td>\n",
       "      <td>704.82</td>\n",
       "      <td>2000</td>\n",
       "      <td>SSD</td>\n",
       "      <td>1049088</td>\n",
       "      <td>Nvidia</td>\n",
       "      <td>RTX 2060</td>\n",
       "      <td>Intel</td>\n",
       "      <td>i3</td>\n",
       "    </tr>\n",
       "    <tr>\n",
       "      <th>11764</th>\n",
       "      <td>Asus</td>\n",
       "      <td>Intel i3</td>\n",
       "      <td>4</td>\n",
       "      <td>2TB SSD</td>\n",
       "      <td>AMD Radeon RX 6800</td>\n",
       "      <td>16.0</td>\n",
       "      <td>1366x768</td>\n",
       "      <td>9.5</td>\n",
       "      <td>2.14</td>\n",
       "      <td>Linux</td>\n",
       "      <td>775.59</td>\n",
       "      <td>2000</td>\n",
       "      <td>SSD</td>\n",
       "      <td>1049088</td>\n",
       "      <td>AMD</td>\n",
       "      <td>Radeon RX 6800</td>\n",
       "      <td>Intel</td>\n",
       "      <td>i3</td>\n",
       "    </tr>\n",
       "    <tr>\n",
       "      <th>11765</th>\n",
       "      <td>Razer</td>\n",
       "      <td>AMD Ryzen 9</td>\n",
       "      <td>4</td>\n",
       "      <td>2TB SSD</td>\n",
       "      <td>AMD Radeon RX 6600</td>\n",
       "      <td>15.6</td>\n",
       "      <td>2560x1440</td>\n",
       "      <td>8.2</td>\n",
       "      <td>2.05</td>\n",
       "      <td>Linux</td>\n",
       "      <td>2789.46</td>\n",
       "      <td>2000</td>\n",
       "      <td>SSD</td>\n",
       "      <td>3686400</td>\n",
       "      <td>AMD</td>\n",
       "      <td>Radeon RX 6600</td>\n",
       "      <td>AMD</td>\n",
       "      <td>Ryzen 9</td>\n",
       "    </tr>\n",
       "    <tr>\n",
       "      <th>11766</th>\n",
       "      <td>Samsung</td>\n",
       "      <td>AMD Ryzen 7</td>\n",
       "      <td>16</td>\n",
       "      <td>512GB SSD</td>\n",
       "      <td>Integrated</td>\n",
       "      <td>13.3</td>\n",
       "      <td>1920x1080</td>\n",
       "      <td>7.5</td>\n",
       "      <td>1.48</td>\n",
       "      <td>macOS</td>\n",
       "      <td>1067.13</td>\n",
       "      <td>512</td>\n",
       "      <td>SSD</td>\n",
       "      <td>2073600</td>\n",
       "      <td>Integrated</td>\n",
       "      <td></td>\n",
       "      <td>AMD</td>\n",
       "      <td>Ryzen 7</td>\n",
       "    </tr>\n",
       "    <tr>\n",
       "      <th>11767</th>\n",
       "      <td>Samsung</td>\n",
       "      <td>Intel i7</td>\n",
       "      <td>8</td>\n",
       "      <td>256GB SSD</td>\n",
       "      <td>Nvidia RTX 3080</td>\n",
       "      <td>17.3</td>\n",
       "      <td>2560x1440</td>\n",
       "      <td>6.4</td>\n",
       "      <td>2.45</td>\n",
       "      <td>FreeDOS</td>\n",
       "      <td>1579.55</td>\n",
       "      <td>256</td>\n",
       "      <td>SSD</td>\n",
       "      <td>3686400</td>\n",
       "      <td>Nvidia</td>\n",
       "      <td>RTX 3080</td>\n",
       "      <td>Intel</td>\n",
       "      <td>i7</td>\n",
       "    </tr>\n",
       "  </tbody>\n",
       "</table>\n",
       "</div>"
      ],
      "text/plain": [
       "         Brand    Processor  RAM (GB)    Storage                 GPU  \\\n",
       "11763     Acer     Intel i3         4    2TB SSD     Nvidia RTX 2060   \n",
       "11764     Asus     Intel i3         4    2TB SSD  AMD Radeon RX 6800   \n",
       "11765    Razer  AMD Ryzen 9         4    2TB SSD  AMD Radeon RX 6600   \n",
       "11766  Samsung  AMD Ryzen 7        16  512GB SSD          Integrated   \n",
       "11767  Samsung     Intel i7         8  256GB SSD     Nvidia RTX 3080   \n",
       "\n",
       "       Screen Size (inch) Resolution  Battery Life (hours)  Weight (kg)  \\\n",
       "11763                17.3   1366x768                  11.5         1.58   \n",
       "11764                16.0   1366x768                   9.5         2.14   \n",
       "11765                15.6  2560x1440                   8.2         2.05   \n",
       "11766                13.3  1920x1080                   7.5         1.48   \n",
       "11767                17.3  2560x1440                   6.4         2.45   \n",
       "\n",
       "      Operating System  Price ($)  Storage_Capacity_GB Storage_Type  \\\n",
       "11763            macOS     704.82                 2000          SSD   \n",
       "11764            Linux     775.59                 2000          SSD   \n",
       "11765            Linux    2789.46                 2000          SSD   \n",
       "11766            macOS    1067.13                  512          SSD   \n",
       "11767          FreeDOS    1579.55                  256          SSD   \n",
       "\n",
       "       Resolution_Pixels   GPU_Brand       GPU_Model Processor_Brand  \\\n",
       "11763            1049088      Nvidia        RTX 2060           Intel   \n",
       "11764            1049088         AMD  Radeon RX 6800           Intel   \n",
       "11765            3686400         AMD  Radeon RX 6600             AMD   \n",
       "11766            2073600  Integrated                             AMD   \n",
       "11767            3686400      Nvidia        RTX 3080           Intel   \n",
       "\n",
       "      Processor_Model  \n",
       "11763              i3  \n",
       "11764              i3  \n",
       "11765         Ryzen 9  \n",
       "11766         Ryzen 7  \n",
       "11767              i7  "
      ]
     },
     "execution_count": 63,
     "metadata": {},
     "output_type": "execute_result"
    }
   ],
   "source": [
    "df_processed.tail(5)"
   ]
  },
  {
   "cell_type": "code",
   "execution_count": null,
   "metadata": {
    "id": "qbv096hnHzin"
   },
   "outputs": [],
   "source": [
    "#log1p = log(1+x)\n",
    "df_processed[\"Price ($)\"] = np.log1p(df_processed[\"Price ($)\"])"
   ]
  },
  {
   "cell_type": "code",
   "execution_count": 72,
   "metadata": {},
   "outputs": [
    {
     "data": {
      "text/html": [
       "<div>\n",
       "<style scoped>\n",
       "    .dataframe tbody tr th:only-of-type {\n",
       "        vertical-align: middle;\n",
       "    }\n",
       "\n",
       "    .dataframe tbody tr th {\n",
       "        vertical-align: top;\n",
       "    }\n",
       "\n",
       "    .dataframe thead th {\n",
       "        text-align: right;\n",
       "    }\n",
       "</style>\n",
       "<table border=\"1\" class=\"dataframe\">\n",
       "  <thead>\n",
       "    <tr style=\"text-align: right;\">\n",
       "      <th></th>\n",
       "      <th>Brand</th>\n",
       "      <th>Processor</th>\n",
       "      <th>RAM (GB)</th>\n",
       "      <th>Storage</th>\n",
       "      <th>GPU</th>\n",
       "      <th>Screen Size (inch)</th>\n",
       "      <th>Resolution</th>\n",
       "      <th>Battery Life (hours)</th>\n",
       "      <th>Weight (kg)</th>\n",
       "      <th>Operating System</th>\n",
       "      <th>Price ($)</th>\n",
       "      <th>Storage_Capacity_GB</th>\n",
       "      <th>Storage_Type</th>\n",
       "      <th>Resolution_Pixels</th>\n",
       "      <th>GPU_Brand</th>\n",
       "      <th>GPU_Model</th>\n",
       "      <th>Processor_Brand</th>\n",
       "      <th>Processor_Model</th>\n",
       "    </tr>\n",
       "  </thead>\n",
       "  <tbody>\n",
       "    <tr>\n",
       "      <th>11763</th>\n",
       "      <td>Acer</td>\n",
       "      <td>Intel i3</td>\n",
       "      <td>4</td>\n",
       "      <td>2TB SSD</td>\n",
       "      <td>Nvidia RTX 2060</td>\n",
       "      <td>17.3</td>\n",
       "      <td>1366x768</td>\n",
       "      <td>11.5</td>\n",
       "      <td>1.58</td>\n",
       "      <td>macOS</td>\n",
       "      <td>2.022787</td>\n",
       "      <td>2000</td>\n",
       "      <td>SSD</td>\n",
       "      <td>1049088</td>\n",
       "      <td>Nvidia</td>\n",
       "      <td>RTX 2060</td>\n",
       "      <td>Intel</td>\n",
       "      <td>i3</td>\n",
       "    </tr>\n",
       "    <tr>\n",
       "      <th>11764</th>\n",
       "      <td>Asus</td>\n",
       "      <td>Intel i3</td>\n",
       "      <td>4</td>\n",
       "      <td>2TB SSD</td>\n",
       "      <td>AMD Radeon RX 6800</td>\n",
       "      <td>16.0</td>\n",
       "      <td>1366x768</td>\n",
       "      <td>9.5</td>\n",
       "      <td>2.14</td>\n",
       "      <td>Linux</td>\n",
       "      <td>2.035348</td>\n",
       "      <td>2000</td>\n",
       "      <td>SSD</td>\n",
       "      <td>1049088</td>\n",
       "      <td>AMD</td>\n",
       "      <td>Radeon RX 6800</td>\n",
       "      <td>Intel</td>\n",
       "      <td>i3</td>\n",
       "    </tr>\n",
       "    <tr>\n",
       "      <th>11765</th>\n",
       "      <td>Razer</td>\n",
       "      <td>AMD Ryzen 9</td>\n",
       "      <td>4</td>\n",
       "      <td>2TB SSD</td>\n",
       "      <td>AMD Radeon RX 6600</td>\n",
       "      <td>15.6</td>\n",
       "      <td>2560x1440</td>\n",
       "      <td>8.2</td>\n",
       "      <td>2.05</td>\n",
       "      <td>Linux</td>\n",
       "      <td>2.189860</td>\n",
       "      <td>2000</td>\n",
       "      <td>SSD</td>\n",
       "      <td>3686400</td>\n",
       "      <td>AMD</td>\n",
       "      <td>Radeon RX 6600</td>\n",
       "      <td>AMD</td>\n",
       "      <td>Ryzen 9</td>\n",
       "    </tr>\n",
       "    <tr>\n",
       "      <th>11766</th>\n",
       "      <td>Samsung</td>\n",
       "      <td>AMD Ryzen 7</td>\n",
       "      <td>16</td>\n",
       "      <td>512GB SSD</td>\n",
       "      <td>Integrated</td>\n",
       "      <td>13.3</td>\n",
       "      <td>1920x1080</td>\n",
       "      <td>7.5</td>\n",
       "      <td>1.48</td>\n",
       "      <td>macOS</td>\n",
       "      <td>2.076144</td>\n",
       "      <td>512</td>\n",
       "      <td>SSD</td>\n",
       "      <td>2073600</td>\n",
       "      <td>Integrated</td>\n",
       "      <td></td>\n",
       "      <td>AMD</td>\n",
       "      <td>Ryzen 7</td>\n",
       "    </tr>\n",
       "    <tr>\n",
       "      <th>11767</th>\n",
       "      <td>Samsung</td>\n",
       "      <td>Intel i7</td>\n",
       "      <td>8</td>\n",
       "      <td>256GB SSD</td>\n",
       "      <td>Nvidia RTX 3080</td>\n",
       "      <td>17.3</td>\n",
       "      <td>2560x1440</td>\n",
       "      <td>6.4</td>\n",
       "      <td>2.45</td>\n",
       "      <td>FreeDOS</td>\n",
       "      <td>2.124119</td>\n",
       "      <td>256</td>\n",
       "      <td>SSD</td>\n",
       "      <td>3686400</td>\n",
       "      <td>Nvidia</td>\n",
       "      <td>RTX 3080</td>\n",
       "      <td>Intel</td>\n",
       "      <td>i7</td>\n",
       "    </tr>\n",
       "  </tbody>\n",
       "</table>\n",
       "</div>"
      ],
      "text/plain": [
       "         Brand    Processor  RAM (GB)    Storage                 GPU  \\\n",
       "11763     Acer     Intel i3         4    2TB SSD     Nvidia RTX 2060   \n",
       "11764     Asus     Intel i3         4    2TB SSD  AMD Radeon RX 6800   \n",
       "11765    Razer  AMD Ryzen 9         4    2TB SSD  AMD Radeon RX 6600   \n",
       "11766  Samsung  AMD Ryzen 7        16  512GB SSD          Integrated   \n",
       "11767  Samsung     Intel i7         8  256GB SSD     Nvidia RTX 3080   \n",
       "\n",
       "       Screen Size (inch) Resolution  Battery Life (hours)  Weight (kg)  \\\n",
       "11763                17.3   1366x768                  11.5         1.58   \n",
       "11764                16.0   1366x768                   9.5         2.14   \n",
       "11765                15.6  2560x1440                   8.2         2.05   \n",
       "11766                13.3  1920x1080                   7.5         1.48   \n",
       "11767                17.3  2560x1440                   6.4         2.45   \n",
       "\n",
       "      Operating System  Price ($)  Storage_Capacity_GB Storage_Type  \\\n",
       "11763            macOS   2.022787                 2000          SSD   \n",
       "11764            Linux   2.035348                 2000          SSD   \n",
       "11765            Linux   2.189860                 2000          SSD   \n",
       "11766            macOS   2.076144                  512          SSD   \n",
       "11767          FreeDOS   2.124119                  256          SSD   \n",
       "\n",
       "       Resolution_Pixels   GPU_Brand       GPU_Model Processor_Brand  \\\n",
       "11763            1049088      Nvidia        RTX 2060           Intel   \n",
       "11764            1049088         AMD  Radeon RX 6800           Intel   \n",
       "11765            3686400         AMD  Radeon RX 6600             AMD   \n",
       "11766            2073600  Integrated                             AMD   \n",
       "11767            3686400      Nvidia        RTX 3080           Intel   \n",
       "\n",
       "      Processor_Model  \n",
       "11763              i3  \n",
       "11764              i3  \n",
       "11765         Ryzen 9  \n",
       "11766         Ryzen 7  \n",
       "11767              i7  "
      ]
     },
     "execution_count": 72,
     "metadata": {},
     "output_type": "execute_result"
    }
   ],
   "source": [
    "df_processed.tail(5)"
   ]
  },
  {
   "cell_type": "code",
   "execution_count": 70,
   "metadata": {},
   "outputs": [
    {
     "data": {
      "image/png": "[encoded data removed]",
      "text/plain": [
       "<Figure size 640x480 with 1 Axes>"
      ]
     },
     "metadata": {},
     "output_type": "display_data"
    }
   ],
   "source": [
    "plt.hist(df_processed['Price ($)'], bins=30)\n",
    "plt.title('Distribution of Laptop Prices',\n",
    "          fontsize=13,\n",
    "          fontweight=\"bold\",\n",
    "          color=\"darkred\")\n",
    "plt.xlabel('Price ($)', fontsize=10)\n",
    "plt.ylabel('Frequency', fontsize=10)\n",
    "plt.show()\n"
   ]
  },
  {
   "cell_type": "code",
   "execution_count": null,
   "metadata": {},
   "outputs": [
    {
     "data": {
      "image/png": "[encoded data removed]",
      "text/plain": [
       "<Figure size 1200x500 with 2 Axes>"
      ]
     },
     "metadata": {},
     "output_type": "display_data"
    }
   ],
   "source": [
    "import matplotlib.pyplot as plt\n",
    "import seaborn as sns\n",
    "\n",
    "fig, axes = plt.subplots(1, 2, figsize=(12, 5))\n",
    "\n",
    "sns.histplot(df[\"Price ($)\"], bins=30, kde=True, ax=axes[0], color=\"skyblue\")\n",
    "axes[0].set_title(\"Original Price Distribution\")\n",
    "\n",
    "\n",
    "sns.histplot(np.log1p(df[\"Price ($)\"]), bins=30, kde=True, ax=axes[1], color=\"salmon\")\n",
    "axes[1].set_title(\"Log1p Price Distribution\")\n",
    "\n",
    "plt.tight_layout()\n",
    "plt.show()\n"
   ]
  },
  {
   "cell_type": "markdown",
   "metadata": {},
   "source": [
    "One-Hot Encoding, Ordinal Encoding, Target Encoding, Binary Encoding, Hashing Encoding"
   ]
  },
  {
   "cell_type": "code",
   "execution_count": 74,
   "metadata": {},
   "outputs": [
    {
     "data": {
      "text/plain": [
       "Brand                    object\n",
       "Processor                object\n",
       "RAM (GB)                  int64\n",
       "Storage                  object\n",
       "GPU                      object\n",
       "Screen Size (inch)      float64\n",
       "Resolution               object\n",
       "Battery Life (hours)    float64\n",
       "Weight (kg)             float64\n",
       "Operating System         object\n",
       "Price ($)               float64\n",
       "Storage_Capacity_GB       int64\n",
       "Storage_Type             object\n",
       "Resolution_Pixels         int64\n",
       "GPU_Brand                object\n",
       "GPU_Model                object\n",
       "Processor_Brand          object\n",
       "Processor_Model          object\n",
       "dtype: object"
      ]
     },
     "execution_count": 74,
     "metadata": {},
     "output_type": "execute_result"
    }
   ],
   "source": [
    "df_processed.dtypes"
   ]
  },
  {
   "cell_type": "code",
   "execution_count": 73,
   "metadata": {},
   "outputs": [
    {
     "name": "stdout",
     "output_type": "stream",
     "text": [
      "categorical columns:\n",
      "Index(['Brand', 'Processor', 'Storage', 'GPU', 'Resolution',\n",
      "       'Operating System', 'Storage_Type', 'GPU_Brand', 'GPU_Model',\n",
      "       'Processor_Brand', 'Processor_Model'],\n",
      "      dtype='object')\n"
     ]
    }
   ],
   "source": [
    "# نمایش همه ستون‌های categorical\n",
    "categorical_cols = df_processed.select_dtypes(include=['object', 'category']).columns\n",
    "print(\"categorical columns:\")\n",
    "print(categorical_cols)\n"
   ]
  },
  {
   "cell_type": "code",
   "execution_count": 76,
   "metadata": {
    "id": "stKrehmrkoZw"
   },
   "outputs": [],
   "source": [
    "def target_encode(df, column_name, target_column):\n",
    "    encoding_map = df.groupby(column_name)[target_column].mean().to_dict()\n",
    "    df[column_name] = df[column_name].map(encoding_map)\n",
    "    return df, encoding_map"
   ]
  },
  {
   "cell_type": "code",
   "execution_count": null,
   "metadata": {},
   "outputs": [],
   "source": []
  },
  {
   "cell_type": "code",
   "execution_count": 77,
   "metadata": {
    "id": "YWM4xZlImHXk"
   },
   "outputs": [],
   "source": [
    "df_processed, gpu_encoding = target_encode(df_processed, \"GPU_Model\", \"Price ($)\")\n",
    "df_processed, processor_encoding = target_encode(df_processed, \"Processor_Model\", \"Price ($)\")"
   ]
  },
  {
   "cell_type": "code",
   "execution_count": 84,
   "metadata": {},
   "outputs": [
    {
     "data": {
      "text/html": [
       "<div>\n",
       "<style scoped>\n",
       "    .dataframe tbody tr th:only-of-type {\n",
       "        vertical-align: middle;\n",
       "    }\n",
       "\n",
       "    .dataframe tbody tr th {\n",
       "        vertical-align: top;\n",
       "    }\n",
       "\n",
       "    .dataframe thead th {\n",
       "        text-align: right;\n",
       "    }\n",
       "</style>\n",
       "<table border=\"1\" class=\"dataframe\">\n",
       "  <thead>\n",
       "    <tr style=\"text-align: right;\">\n",
       "      <th></th>\n",
       "      <th>RAM (GB)</th>\n",
       "      <th>Screen Size (inch)</th>\n",
       "      <th>Battery Life (hours)</th>\n",
       "      <th>Weight (kg)</th>\n",
       "      <th>Price ($)</th>\n",
       "      <th>Storage_Capacity_GB</th>\n",
       "      <th>Resolution_Pixels</th>\n",
       "      <th>GPU_Model</th>\n",
       "      <th>Processor_Model</th>\n",
       "      <th>Brand_Apple</th>\n",
       "      <th>...</th>\n",
       "      <th>Brand_Microsoft</th>\n",
       "      <th>Brand_Razer</th>\n",
       "      <th>Brand_Samsung</th>\n",
       "      <th>Operating System_Linux</th>\n",
       "      <th>Operating System_Windows</th>\n",
       "      <th>Operating System_macOS</th>\n",
       "      <th>Storage_Type_SSD</th>\n",
       "      <th>GPU_Brand_Integrated</th>\n",
       "      <th>GPU_Brand_Nvidia</th>\n",
       "      <th>Processor_Brand_Intel</th>\n",
       "    </tr>\n",
       "  </thead>\n",
       "  <tbody>\n",
       "    <tr>\n",
       "      <th>11763</th>\n",
       "      <td>4</td>\n",
       "      <td>17.3</td>\n",
       "      <td>11.5</td>\n",
       "      <td>1.58</td>\n",
       "      <td>2.022787</td>\n",
       "      <td>2000</td>\n",
       "      <td>1049088</td>\n",
       "      <td>2.148286</td>\n",
       "      <td>2.106172</td>\n",
       "      <td>0</td>\n",
       "      <td>...</td>\n",
       "      <td>0</td>\n",
       "      <td>0</td>\n",
       "      <td>0</td>\n",
       "      <td>0</td>\n",
       "      <td>0</td>\n",
       "      <td>1</td>\n",
       "      <td>1</td>\n",
       "      <td>0</td>\n",
       "      <td>1</td>\n",
       "      <td>1</td>\n",
       "    </tr>\n",
       "    <tr>\n",
       "      <th>11764</th>\n",
       "      <td>4</td>\n",
       "      <td>16.0</td>\n",
       "      <td>9.5</td>\n",
       "      <td>2.14</td>\n",
       "      <td>2.035348</td>\n",
       "      <td>2000</td>\n",
       "      <td>1049088</td>\n",
       "      <td>2.149666</td>\n",
       "      <td>2.106172</td>\n",
       "      <td>0</td>\n",
       "      <td>...</td>\n",
       "      <td>0</td>\n",
       "      <td>0</td>\n",
       "      <td>0</td>\n",
       "      <td>1</td>\n",
       "      <td>0</td>\n",
       "      <td>0</td>\n",
       "      <td>1</td>\n",
       "      <td>0</td>\n",
       "      <td>0</td>\n",
       "      <td>1</td>\n",
       "    </tr>\n",
       "    <tr>\n",
       "      <th>11765</th>\n",
       "      <td>4</td>\n",
       "      <td>15.6</td>\n",
       "      <td>8.2</td>\n",
       "      <td>2.05</td>\n",
       "      <td>2.189860</td>\n",
       "      <td>2000</td>\n",
       "      <td>3686400</td>\n",
       "      <td>2.149843</td>\n",
       "      <td>2.185145</td>\n",
       "      <td>0</td>\n",
       "      <td>...</td>\n",
       "      <td>0</td>\n",
       "      <td>1</td>\n",
       "      <td>0</td>\n",
       "      <td>1</td>\n",
       "      <td>0</td>\n",
       "      <td>0</td>\n",
       "      <td>1</td>\n",
       "      <td>0</td>\n",
       "      <td>0</td>\n",
       "      <td>0</td>\n",
       "    </tr>\n",
       "    <tr>\n",
       "      <th>11766</th>\n",
       "      <td>16</td>\n",
       "      <td>13.3</td>\n",
       "      <td>7.5</td>\n",
       "      <td>1.48</td>\n",
       "      <td>2.076144</td>\n",
       "      <td>512</td>\n",
       "      <td>2073600</td>\n",
       "      <td>2.098286</td>\n",
       "      <td>2.151944</td>\n",
       "      <td>0</td>\n",
       "      <td>...</td>\n",
       "      <td>0</td>\n",
       "      <td>0</td>\n",
       "      <td>1</td>\n",
       "      <td>0</td>\n",
       "      <td>0</td>\n",
       "      <td>1</td>\n",
       "      <td>1</td>\n",
       "      <td>1</td>\n",
       "      <td>0</td>\n",
       "      <td>0</td>\n",
       "    </tr>\n",
       "    <tr>\n",
       "      <th>11767</th>\n",
       "      <td>8</td>\n",
       "      <td>17.3</td>\n",
       "      <td>6.4</td>\n",
       "      <td>2.45</td>\n",
       "      <td>2.124119</td>\n",
       "      <td>256</td>\n",
       "      <td>3686400</td>\n",
       "      <td>2.147539</td>\n",
       "      <td>2.153243</td>\n",
       "      <td>0</td>\n",
       "      <td>...</td>\n",
       "      <td>0</td>\n",
       "      <td>0</td>\n",
       "      <td>1</td>\n",
       "      <td>0</td>\n",
       "      <td>0</td>\n",
       "      <td>0</td>\n",
       "      <td>1</td>\n",
       "      <td>0</td>\n",
       "      <td>1</td>\n",
       "      <td>1</td>\n",
       "    </tr>\n",
       "  </tbody>\n",
       "</table>\n",
       "<p>5 rows × 25 columns</p>\n",
       "</div>"
      ],
      "text/plain": [
       "       RAM (GB)  Screen Size (inch)  Battery Life (hours)  Weight (kg)  \\\n",
       "11763         4                17.3                  11.5         1.58   \n",
       "11764         4                16.0                   9.5         2.14   \n",
       "11765         4                15.6                   8.2         2.05   \n",
       "11766        16                13.3                   7.5         1.48   \n",
       "11767         8                17.3                   6.4         2.45   \n",
       "\n",
       "       Price ($)  Storage_Capacity_GB  Resolution_Pixels  GPU_Model  \\\n",
       "11763   2.022787                 2000            1049088   2.148286   \n",
       "11764   2.035348                 2000            1049088   2.149666   \n",
       "11765   2.189860                 2000            3686400   2.149843   \n",
       "11766   2.076144                  512            2073600   2.098286   \n",
       "11767   2.124119                  256            3686400   2.147539   \n",
       "\n",
       "       Processor_Model  Brand_Apple  ...  Brand_Microsoft  Brand_Razer  \\\n",
       "11763         2.106172            0  ...                0            0   \n",
       "11764         2.106172            0  ...                0            0   \n",
       "11765         2.185145            0  ...                0            1   \n",
       "11766         2.151944            0  ...                0            0   \n",
       "11767         2.153243            0  ...                0            0   \n",
       "\n",
       "       Brand_Samsung  Operating System_Linux  Operating System_Windows  \\\n",
       "11763              0                       0                         0   \n",
       "11764              0                       1                         0   \n",
       "11765              0                       1                         0   \n",
       "11766              1                       0                         0   \n",
       "11767              1                       0                         0   \n",
       "\n",
       "       Operating System_macOS  Storage_Type_SSD  GPU_Brand_Integrated  \\\n",
       "11763                       1                 1                     0   \n",
       "11764                       0                 1                     0   \n",
       "11765                       0                 1                     0   \n",
       "11766                       1                 1                     1   \n",
       "11767                       0                 1                     0   \n",
       "\n",
       "       GPU_Brand_Nvidia  Processor_Brand_Intel  \n",
       "11763                 1                      1  \n",
       "11764                 0                      1  \n",
       "11765                 0                      0  \n",
       "11766                 0                      0  \n",
       "11767                 1                      1  \n",
       "\n",
       "[5 rows x 25 columns]"
      ]
     },
     "execution_count": 84,
     "metadata": {},
     "output_type": "execute_result"
    }
   ],
   "source": [
    "df_processed.tail(5)"
   ]
  },
  {
   "cell_type": "code",
   "execution_count": null,
   "metadata": {},
   "outputs": [],
   "source": [
    "df_processed = df_processed.drop(columns = [\"Processor\", \"Storage\", \"GPU\", \"Resolution\"])"
   ]
  },
  {
   "cell_type": "code",
   "execution_count": 80,
   "metadata": {},
   "outputs": [],
   "source": [
    "categorical_features = df_processed.select_dtypes(include=[\"object\"]).columns\n",
    "dummy_df = pd.get_dummies(df_processed[categorical_features], drop_first=True, dtype='int')\n",
    "df_processed = pd.concat([df_processed.drop(columns=categorical_features), dummy_df], axis=1)"
   ]
  },
  {
   "cell_type": "code",
   "execution_count": 81,
   "metadata": {},
   "outputs": [
    {
     "data": {
      "text/html": [
       "<div>\n",
       "<style scoped>\n",
       "    .dataframe tbody tr th:only-of-type {\n",
       "        vertical-align: middle;\n",
       "    }\n",
       "\n",
       "    .dataframe tbody tr th {\n",
       "        vertical-align: top;\n",
       "    }\n",
       "\n",
       "    .dataframe thead th {\n",
       "        text-align: right;\n",
       "    }\n",
       "</style>\n",
       "<table border=\"1\" class=\"dataframe\">\n",
       "  <thead>\n",
       "    <tr style=\"text-align: right;\">\n",
       "      <th></th>\n",
       "      <th>RAM (GB)</th>\n",
       "      <th>Screen Size (inch)</th>\n",
       "      <th>Battery Life (hours)</th>\n",
       "      <th>Weight (kg)</th>\n",
       "      <th>Price ($)</th>\n",
       "      <th>Storage_Capacity_GB</th>\n",
       "      <th>Resolution_Pixels</th>\n",
       "      <th>GPU_Model</th>\n",
       "      <th>Processor_Model</th>\n",
       "      <th>Brand_Apple</th>\n",
       "      <th>...</th>\n",
       "      <th>Brand_Microsoft</th>\n",
       "      <th>Brand_Razer</th>\n",
       "      <th>Brand_Samsung</th>\n",
       "      <th>Operating System_Linux</th>\n",
       "      <th>Operating System_Windows</th>\n",
       "      <th>Operating System_macOS</th>\n",
       "      <th>Storage_Type_SSD</th>\n",
       "      <th>GPU_Brand_Integrated</th>\n",
       "      <th>GPU_Brand_Nvidia</th>\n",
       "      <th>Processor_Brand_Intel</th>\n",
       "    </tr>\n",
       "  </thead>\n",
       "  <tbody>\n",
       "    <tr>\n",
       "      <th>11763</th>\n",
       "      <td>4</td>\n",
       "      <td>17.3</td>\n",
       "      <td>11.5</td>\n",
       "      <td>1.58</td>\n",
       "      <td>2.022787</td>\n",
       "      <td>2000</td>\n",
       "      <td>1049088</td>\n",
       "      <td>2.148286</td>\n",
       "      <td>2.106172</td>\n",
       "      <td>0</td>\n",
       "      <td>...</td>\n",
       "      <td>0</td>\n",
       "      <td>0</td>\n",
       "      <td>0</td>\n",
       "      <td>0</td>\n",
       "      <td>0</td>\n",
       "      <td>1</td>\n",
       "      <td>1</td>\n",
       "      <td>0</td>\n",
       "      <td>1</td>\n",
       "      <td>1</td>\n",
       "    </tr>\n",
       "    <tr>\n",
       "      <th>11764</th>\n",
       "      <td>4</td>\n",
       "      <td>16.0</td>\n",
       "      <td>9.5</td>\n",
       "      <td>2.14</td>\n",
       "      <td>2.035348</td>\n",
       "      <td>2000</td>\n",
       "      <td>1049088</td>\n",
       "      <td>2.149666</td>\n",
       "      <td>2.106172</td>\n",
       "      <td>0</td>\n",
       "      <td>...</td>\n",
       "      <td>0</td>\n",
       "      <td>0</td>\n",
       "      <td>0</td>\n",
       "      <td>1</td>\n",
       "      <td>0</td>\n",
       "      <td>0</td>\n",
       "      <td>1</td>\n",
       "      <td>0</td>\n",
       "      <td>0</td>\n",
       "      <td>1</td>\n",
       "    </tr>\n",
       "    <tr>\n",
       "      <th>11765</th>\n",
       "      <td>4</td>\n",
       "      <td>15.6</td>\n",
       "      <td>8.2</td>\n",
       "      <td>2.05</td>\n",
       "      <td>2.189860</td>\n",
       "      <td>2000</td>\n",
       "      <td>3686400</td>\n",
       "      <td>2.149843</td>\n",
       "      <td>2.185145</td>\n",
       "      <td>0</td>\n",
       "      <td>...</td>\n",
       "      <td>0</td>\n",
       "      <td>1</td>\n",
       "      <td>0</td>\n",
       "      <td>1</td>\n",
       "      <td>0</td>\n",
       "      <td>0</td>\n",
       "      <td>1</td>\n",
       "      <td>0</td>\n",
       "      <td>0</td>\n",
       "      <td>0</td>\n",
       "    </tr>\n",
       "    <tr>\n",
       "      <th>11766</th>\n",
       "      <td>16</td>\n",
       "      <td>13.3</td>\n",
       "      <td>7.5</td>\n",
       "      <td>1.48</td>\n",
       "      <td>2.076144</td>\n",
       "      <td>512</td>\n",
       "      <td>2073600</td>\n",
       "      <td>2.098286</td>\n",
       "      <td>2.151944</td>\n",
       "      <td>0</td>\n",
       "      <td>...</td>\n",
       "      <td>0</td>\n",
       "      <td>0</td>\n",
       "      <td>1</td>\n",
       "      <td>0</td>\n",
       "      <td>0</td>\n",
       "      <td>1</td>\n",
       "      <td>1</td>\n",
       "      <td>1</td>\n",
       "      <td>0</td>\n",
       "      <td>0</td>\n",
       "    </tr>\n",
       "    <tr>\n",
       "      <th>11767</th>\n",
       "      <td>8</td>\n",
       "      <td>17.3</td>\n",
       "      <td>6.4</td>\n",
       "      <td>2.45</td>\n",
       "      <td>2.124119</td>\n",
       "      <td>256</td>\n",
       "      <td>3686400</td>\n",
       "      <td>2.147539</td>\n",
       "      <td>2.153243</td>\n",
       "      <td>0</td>\n",
       "      <td>...</td>\n",
       "      <td>0</td>\n",
       "      <td>0</td>\n",
       "      <td>1</td>\n",
       "      <td>0</td>\n",
       "      <td>0</td>\n",
       "      <td>0</td>\n",
       "      <td>1</td>\n",
       "      <td>0</td>\n",
       "      <td>1</td>\n",
       "      <td>1</td>\n",
       "    </tr>\n",
       "  </tbody>\n",
       "</table>\n",
       "<p>5 rows × 25 columns</p>\n",
       "</div>"
      ],
      "text/plain": [
       "       RAM (GB)  Screen Size (inch)  Battery Life (hours)  Weight (kg)  \\\n",
       "11763         4                17.3                  11.5         1.58   \n",
       "11764         4                16.0                   9.5         2.14   \n",
       "11765         4                15.6                   8.2         2.05   \n",
       "11766        16                13.3                   7.5         1.48   \n",
       "11767         8                17.3                   6.4         2.45   \n",
       "\n",
       "       Price ($)  Storage_Capacity_GB  Resolution_Pixels  GPU_Model  \\\n",
       "11763   2.022787                 2000            1049088   2.148286   \n",
       "11764   2.035348                 2000            1049088   2.149666   \n",
       "11765   2.189860                 2000            3686400   2.149843   \n",
       "11766   2.076144                  512            2073600   2.098286   \n",
       "11767   2.124119                  256            3686400   2.147539   \n",
       "\n",
       "       Processor_Model  Brand_Apple  ...  Brand_Microsoft  Brand_Razer  \\\n",
       "11763         2.106172            0  ...                0            0   \n",
       "11764         2.106172            0  ...                0            0   \n",
       "11765         2.185145            0  ...                0            1   \n",
       "11766         2.151944            0  ...                0            0   \n",
       "11767         2.153243            0  ...                0            0   \n",
       "\n",
       "       Brand_Samsung  Operating System_Linux  Operating System_Windows  \\\n",
       "11763              0                       0                         0   \n",
       "11764              0                       1                         0   \n",
       "11765              0                       1                         0   \n",
       "11766              1                       0                         0   \n",
       "11767              1                       0                         0   \n",
       "\n",
       "       Operating System_macOS  Storage_Type_SSD  GPU_Brand_Integrated  \\\n",
       "11763                       1                 1                     0   \n",
       "11764                       0                 1                     0   \n",
       "11765                       0                 1                     0   \n",
       "11766                       1                 1                     1   \n",
       "11767                       0                 1                     0   \n",
       "\n",
       "       GPU_Brand_Nvidia  Processor_Brand_Intel  \n",
       "11763                 1                      1  \n",
       "11764                 0                      1  \n",
       "11765                 0                      0  \n",
       "11766                 0                      0  \n",
       "11767                 1                      1  \n",
       "\n",
       "[5 rows x 25 columns]"
      ]
     },
     "execution_count": 81,
     "metadata": {},
     "output_type": "execute_result"
    }
   ],
   "source": [
    "df_processed.tail(5)"
   ]
  },
  {
   "cell_type": "code",
   "execution_count": 82,
   "metadata": {
    "id": "iJzKVfzC9OTn"
   },
   "outputs": [],
   "source": [
    "from sklearn.preprocessing import StandardScaler\n",
    "from sklearn.model_selection import (train_test_split,\n",
    "                                     learning_curve)\n",
    "from sklearn.metrics import (mean_squared_error,\n",
    "                             mean_absolute_error,\n",
    "                             r2_score)\n",
    "from sklearn.preprocessing import StandardScaler\n",
    "from sklearn.pipeline import Pipeline\n",
    "\n",
    "from sklearn.ensemble import RandomForestRegressor\n",
    "from xgboost import XGBRegressor"
   ]
  },
  {
   "cell_type": "code",
   "execution_count": null,
   "metadata": {
    "id": "OfyQ9bTQ1ZTC"
   },
   "outputs": [],
   "source": [
    "def plot_learning_curve(model, X, y, model_name):\n",
    "    train_sizes, train_scores, test_scores = learning_curve(\n",
    "        model, X, y, cv=5, scoring='neg_mean_squared_error', n_jobs=-1, train_sizes=np.linspace(0.1, 1.0, 10)\n",
    "    )\n",
    "\n",
    "    \n",
    "    train_mean = -train_scores.mean(axis=1)\n",
    "    test_mean = -test_scores.mean(axis=1)\n",
    "    train_std = train_scores.std(axis=1)\n",
    "    test_std = test_scores.std(axis=1)\n",
    "\n",
    "    plt.figure(figsize=(7, 5))\n",
    "    plt.plot(train_sizes, train_mean, label=f'{model_name} Train', color='blue')\n",
    "    plt.plot(train_sizes, test_mean, label=f'{model_name} Test', color='red')\n",
    "    plt.fill_between(train_sizes, train_mean - train_std, train_mean + train_std, alpha=0.1, color='blue')\n",
    "    plt.fill_between(train_sizes, test_mean - test_std, test_mean + test_std, alpha=0.1, color='red')\n",
    "    plt.title(f'Learning Curve for {model_name}')\n",
    "    plt.xlabel('Training Size')\n",
    "    plt.ylabel('Mean Squared Error')\n",
    "    plt.legend()\n",
    "    plt.grid(True)\n",
    "    plt.show()"
   ]
  },
  {
   "cell_type": "code",
   "execution_count": 86,
   "metadata": {
    "id": "SvPy3L-0NIIK"
   },
   "outputs": [],
   "source": [
    "def evaluate_model(pipeline, X, y, dataset_name):\n",
    "    y_pred = pipeline.predict(X)\n",
    "    mse = mean_squared_error(y, y_pred)\n",
    "    rmse = np.sqrt(mse)\n",
    "    mae = mean_absolute_error(y, y_pred)\n",
    "    r2 = r2_score(y, y_pred)\n",
    "\n",
    "    print(f\"\\nModel Evaluation On Sets: {dataset_name}:\")\n",
    "    print(f\"Mean Squared Error (MSE): {mse:.4f}\")\n",
    "    print(f\"Root Mean Squared Error (RMSE): {rmse:.4f}\")\n",
    "    print(f\"Mean Absolute Error (MAE): {mae:.4f}\")\n",
    "    print(f\"R-squared (R²): {r2:.4f}\")\n",
    "\n",
    "    return y_pred, mse, rmse, mae, r2\n",
    "\n"
   ]
  },
  {
   "cell_type": "code",
   "execution_count": null,
   "metadata": {
    "id": "PYb0CM5HT0V2"
   },
   "outputs": [],
   "source": [
    "def plot_prediction_scatter():\n",
    "    plt.figure(figsize=(12, 8))\n",
    "\n",
    "    plt.subplot(2, 2, 1)\n",
    "    plt.scatter(y_train, y_train_pred, alpha=0.5)\n",
    "    plt.plot([y_train.min(), y_train.max()], [y_train.min(), y_train.max()], 'r--')\n",
    "    plt.xlabel('Actual Value')\n",
    "    plt.ylabel('Predicted Values')\n",
    "    plt.title('Train Set')\n",
    "\n",
    "    plt.subplot(2, 2, 2)\n",
    "    plt.scatter(y_val, y_val_pred, alpha=0.5)\n",
    "    plt.plot([y_val.min(), y_val.max()], [y_val.min(), y_val.max()], 'r--')\n",
    "    plt.xlabel('Actual Value')\n",
    "    plt.ylabel('Predicted Values')\n",
    "    plt.title('Validation Set')\n",
    "\n",
    "    plt.subplot(2, 2, 3)\n",
    "    plt.scatter(y_test, y_test_pred, alpha=0.5)\n",
    "    plt.plot([y_test.min(), y_test.max()], [y_test.min(), y_test.max()], 'r--')\n",
    "    plt.xlabel('Actual Value')\n",
    "    plt.ylabel('Predicted Values')\n",
    "    plt.title('Test Set')\n",
    "\n",
    "    # نمودار توزیع خطا\n",
    "    plt.subplot(2, 2, 4)\n",
    "    errors = y_test - y_test_pred\n",
    "    sns.histplot(errors, kde=True)\n",
    "    plt.xlabel('Prediction Error')\n",
    "    plt.ylabel('Frequency')\n",
    "    plt.title('Error Distribution in Test Set')\n",
    "\n",
    "    plt.tight_layout()\n",
    "    plt.show()\n"
   ]
  },
  {
   "cell_type": "markdown",
   "metadata": {
    "id": "1vL2W4NZ-r7z"
   },
   "source": [
    "<br>\n",
    "<br>\n",
    "<div dir=\"rtl\">\n",
    "    <h1>آموزش مدل RandomForest:<h1>\n",
    "        <font size=4>\n",
    "            <li>\n",
    "                    مدل RandomForest را آموزش دهید و به نکات زیر توجه داشته باشید:\n",
    "                        <br>\n",
    "                        1. از داده های Test, Train و Validation برای آموزش و\n",
    "                        ارزیابی مدل استفاده کنید.  \n",
    "                        <br>\n",
    "                        2. منحنی یادگیری مدل را بررسی و ارزیابی کنید.\n",
    "                        <br>\n",
    "                        3. مدل را از نظر Overfit/Underfit بررسی کنید.\n",
    "                        <br>\n",
    "                        4. سعی کنید ماهیت داده ها را بشناسید و بر اساس آن هایپر پارامتر ها را انتخاب کنید. در صورتی که به مشکلی مواجه شدید از روش های انتخاب و بهینه سازی ویژگی استفاده کنید.\n",
    "            </li>\n",
    "        </font>\n",
    "\n",
    "</div>\n",
    "<br>"
   ]
  },
  {
   "cell_type": "code",
   "execution_count": 38,
   "metadata": {
    "id": "wCKEOtNTIF7g"
   },
   "outputs": [],
   "source": [
    "# TODO: آماده‌سازی داده‌ها با جدا کردن متغییر های وابسته و مستقل\n",
    "\n"
   ]
  },
  {
   "cell_type": "code",
   "execution_count": 39,
   "metadata": {
    "id": "sTJ4acpJ3Cue"
   },
   "outputs": [],
   "source": [
    "# TODO تقسیم داده‌ها به سه بخش: train، validation و test\n",
    "\n"
   ]
  },
  {
   "cell_type": "code",
   "execution_count": 40,
   "metadata": {
    "id": "ndnxkx0q3D8-"
   },
   "outputs": [],
   "source": [
    "# TODO: تغریف و آموزش پایپ لاین\n",
    "\n"
   ]
  },
  {
   "cell_type": "markdown",
   "metadata": {
    "id": "vgDBExnb3UP_"
   },
   "source": [
    "<br>\n",
    "<br>\n",
    "<div dir=\"rtl\">\n",
    "    <font size=4>\n",
    "        <li>\n",
    "            از تابع evaluate_model مدل استفاده کنید و عملکرد مدل بر روی داده های Train, Test و Validation را ارزیابی کنید\n",
    "        </li>\n",
    "    </font>\n",
    "</div>"
   ]
  },
  {
   "cell_type": "code",
   "execution_count": 41,
   "metadata": {
    "id": "ZZepQdIv3LWO"
   },
   "outputs": [],
   "source": [
    "# TODO: ارزیابی مدل روی مجموعه‌های مختلف با استفاده از متد evaluate_model\n",
    "\n"
   ]
  },
  {
   "cell_type": "code",
   "execution_count": 42,
   "metadata": {
    "id": "5rMoCFv-N8jg"
   },
   "outputs": [],
   "source": [
    "# TODO: منحنی یادگیری این مدل را بررسی کنید\n",
    "\n"
   ]
  },
  {
   "cell_type": "code",
   "execution_count": 43,
   "metadata": {
    "id": "pmZCIiglOFYJ"
   },
   "outputs": [],
   "source": [
    "# TODO:  نمودار پراکندگی بین مقادیر پیش بینی شده و مقادیر واقعی\n",
    "\n"
   ]
  },
  {
   "cell_type": "markdown",
   "metadata": {
    "id": "FDiZVxUg4ti6"
   },
   "source": [
    "<br>\n",
    "<br>\n",
    "<div dir=\"rtl\">\n",
    "    <font size=4>\n",
    "        <li>\n",
    "        نتایج ارزیابی مدل را با استفاده از مقادیر MSE، RMSE، MAE و R² برای\n",
    "         داده‌های آموزشی، اعتبارسنجی و آزمایشی در قالب یک جدول نمایش دهید.خروجی نمونه به شکل زیر است:\n",
    "        </li>\n",
    "    </font>\n",
    "</div>"
   ]
  },
  {
   "cell_type": "markdown",
   "metadata": {
    "id": "fD04nxp05dLz"
   },
   "source": [
    "<a href=\"https://imgbb.com/\"><img src=\"https://i.ibb.co/yFdgRMxs/Screenshot-2025-03-12-183530.png\" alt=\"Screenshot-2025-03-12-183530\" border=\"0\"></a>"
   ]
  },
  {
   "cell_type": "code",
   "execution_count": null,
   "metadata": {
    "id": "LSQbvdvbOFVP"
   },
   "outputs": [],
   "source": [
    "\n"
   ]
  },
  {
   "cell_type": "markdown",
   "metadata": {
    "id": "AdDXUahZubnv"
   },
   "source": [
    "## ارزیابی:\n",
    "*ارزیابی خودتان از عملکرد مدل جنگل تصادفی و خروجی حاصل از آن را بنویسید*\n",
    "1. ....\n",
    "2. ....\n",
    "3. ....\n"
   ]
  },
  {
   "cell_type": "markdown",
   "metadata": {
    "id": "W4jglFGp_qFG"
   },
   "source": [
    "<br>\n",
    "<br>\n",
    "<div dir=\"rtl\">\n",
    "    <h1>آموزش مدل XGBoost:<h1>\n",
    "        <font size=4>\n",
    "            <li>\n",
    "                    مدل XGBoost را آموزش دهید و به نکات زیر توجه داشته باشید:\n",
    "                        <br>\n",
    "                        1. از داده های Test, Train و Validation برای آموزش و\n",
    "                        ارزیابی مدل استفاده کنید.  \n",
    "                        <br>\n",
    "                        2. منحنی یادگیری مدل را بررسی و ارزیابی کنید.\n",
    "                        <br>\n",
    "                        3. مدل را از نظر Overfit/Underfit بررسی کنید.\n",
    "                        <br>\n",
    "                        4. سعی کنید ماهیت داده ها را بشناسید و بر اساس آن هایپر پارامتر ها را انتخاب کنید. در صورتی که به مشکلی مواجه شدید از روش های انتخاب و بهینه سازی ویژگی استفاده کنید.\n",
    "            </li>\n",
    "        </font>\n",
    "\n",
    "</div>\n",
    "<br>"
   ]
  },
  {
   "cell_type": "code",
   "execution_count": 44,
   "metadata": {
    "id": "UyZpXER96ApI"
   },
   "outputs": [],
   "source": [
    "# TODO: آماده‌سازی داده‌ها با جدا کردن متغییر های وابسته و مستقل\n",
    "\n"
   ]
  },
  {
   "cell_type": "code",
   "execution_count": 45,
   "metadata": {
    "id": "s2cFz4eq6ApJ"
   },
   "outputs": [],
   "source": [
    "# TODO تقسیم داده‌ها به سه بخش: train، validation و test\n",
    "\n"
   ]
  },
  {
   "cell_type": "code",
   "execution_count": 46,
   "metadata": {
    "id": "fdqQF4oH6ApJ"
   },
   "outputs": [],
   "source": [
    "# TODO: تغریف و آموزش پایپ لاین\n",
    "\n"
   ]
  },
  {
   "cell_type": "markdown",
   "metadata": {
    "id": "bMB5BHP36ApJ"
   },
   "source": [
    "<br>\n",
    "<br>\n",
    "<div dir=\"rtl\">\n",
    "    <font size=4>\n",
    "        <li>\n",
    "            از تابع evaluate_model مدل استفاده کنید و عملکرد مدل بر روی داده های Train, Test و Validation را ارزیابی کنید\n",
    "        </li>\n",
    "    </font>\n",
    "</div>"
   ]
  },
  {
   "cell_type": "code",
   "execution_count": 47,
   "metadata": {
    "id": "DBdeWqVU6ApJ"
   },
   "outputs": [],
   "source": [
    "# TODO: ارزیابی مدل روی مجموعه‌های مختلف با استفاده از متد evaluate_model\n",
    "\n"
   ]
  },
  {
   "cell_type": "code",
   "execution_count": 48,
   "metadata": {
    "id": "hICO1P6s6ApJ"
   },
   "outputs": [],
   "source": [
    "# TODO: منحنی یادگیری این مدل را بررسی کنید\n",
    "\n"
   ]
  },
  {
   "cell_type": "code",
   "execution_count": 49,
   "metadata": {
    "id": "EV9nYUXj6ApJ"
   },
   "outputs": [],
   "source": [
    "# TODO:  نمودار پراکندگی بین مقادیر پیش بینی شده و مقادیر واقعی\n",
    "\n"
   ]
  },
  {
   "cell_type": "markdown",
   "metadata": {
    "id": "HZVEXysp6ApJ"
   },
   "source": [
    "<br>\n",
    "<br>\n",
    "<div dir=\"rtl\">\n",
    "    <font size=4>\n",
    "        <li>\n",
    "        نتایج ارزیابی مدل را با استفاده از مقادیر MSE، RMSE، MAE و R² برای\n",
    "         داده‌های آموزشی، اعتبارسنجی و آزمایشی در قالب یک جدول نمایش دهید.خروجی نمونه به شکل زیر است:\n",
    "        </li>\n",
    "    </font>\n",
    "</div>"
   ]
  },
  {
   "cell_type": "markdown",
   "metadata": {
    "id": "-sL0Azz96ApK"
   },
   "source": [
    "<a href=\"https://imgbb.com/\"><img src=\"https://i.ibb.co/yFdgRMxs/Screenshot-2025-03-12-183530.png\" alt=\"Screenshot-2025-03-12-183530\" border=\"0\"></a>"
   ]
  },
  {
   "cell_type": "code",
   "execution_count": null,
   "metadata": {
    "id": "tviKZ4Qo6ApK"
   },
   "outputs": [],
   "source": [
    "\n"
   ]
  },
  {
   "cell_type": "code",
   "execution_count": null,
   "metadata": {
    "id": "q3UUaKxS5zuV"
   },
   "outputs": [],
   "source": []
  },
  {
   "cell_type": "markdown",
   "metadata": {
    "id": "EWKxUEETvExi"
   },
   "source": [
    "## ارزیابی:\n",
    "*ارزیابی خودتان از عملکرد مدل و خروجی حاصل از آن را بنویسید*\n",
    "1. ....\n",
    "2. ....\n",
    "3. ....\n"
   ]
  },
  {
   "cell_type": "markdown",
   "metadata": {
    "id": "zN9KWOHchDSM"
   },
   "source": [
    "<div dir=\"rtl\">\n",
    "<font size=\"6\">\n",
    "    <li>\n",
    "        <strong>ذخیره سازی مدل</strong>\n",
    "    </li>\n",
    "    <font size=4>\n",
    "        <li>\n",
    "        از بین دو مدلی Random Forest و XGBoost آن مدلی که عملکرد بهتری دارد را ذخیره کنید\n",
    "        </li>\n",
    "    </font>\n",
    "</font>"
   ]
  },
  {
   "cell_type": "code",
   "execution_count": 50,
   "metadata": {
    "id": "U-Iu9Devg_c5"
   },
   "outputs": [],
   "source": [
    "# TODO: مدل را ذخیره کنید\n",
    "\n"
   ]
  },
  {
   "cell_type": "code",
   "execution_count": null,
   "metadata": {
    "id": "S4f_lMCynUxz"
   },
   "outputs": [],
   "source": []
  }
 ],
 "metadata": {
  "colab": {
   "provenance": []
  },
  "kernelspec": {
   "display_name": "myenv",
   "language": "python",
   "name": "python3"
  },
  "language_info": {
   "codemirror_mode": {
    "name": "ipython",
    "version": 3
   },
   "file_extension": ".py",
   "mimetype": "text/x-python",
   "name": "python",
   "nbconvert_exporter": "python",
   "pygments_lexer": "ipython3",
   "version": "3.12.8"
  }
 },
 "nbformat": 4,
 "nbformat_minor": 0
}
